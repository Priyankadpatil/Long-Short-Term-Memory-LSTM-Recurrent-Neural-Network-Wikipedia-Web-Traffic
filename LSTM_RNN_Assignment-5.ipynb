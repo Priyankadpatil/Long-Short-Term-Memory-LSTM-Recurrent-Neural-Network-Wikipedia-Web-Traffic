{
 "cells": [
  {
   "cell_type": "markdown",
   "metadata": {
    "colab_type": "text",
    "id": "t8uyFlmUfcAy"
   },
   "source": [
    "# **Long Short Term Memory (LSTM) Recurrent Neural Network: Wikipedia Web Traffic**\n",
    "\n",
    "\n",
    "\n",
    "IE7860 \n",
    "\n",
    "Assignment-5\n",
    "\n",
    "Priyanka Patil"
   ]
  },
  {
   "cell_type": "markdown",
   "metadata": {
    "colab_type": "text",
    "id": "XjD6KA9PgQFT"
   },
   "source": [
    "## ***Introduction*** "
   ]
  },
  {
   "cell_type": "markdown",
   "metadata": {
    "colab_type": "text",
    "id": "Hwnt9dc6hIx8"
   },
   "source": [
    "A Long Short Term Memory (LSTM) Recurrent Neural Network will be used to predict the number of visits (traffic) to the Wikipedia website.  Each of the time series in the dataset represent a number of daily views of a different Wikipedia article starting from July 1st, 2015 until December 31st, 2016."
   ]
  },
  {
   "cell_type": "markdown",
   "metadata": {
    "colab_type": "text",
    "id": "ArAeg9zChum8"
   },
   "source": [
    "## ***Dataset***"
   ]
  },
  {
   "cell_type": "markdown",
   "metadata": {
    "colab_type": "text",
    "id": "Us3P5Kskh0v4"
   },
   "source": [
    "The source of the data is from Kaggle [link](https://www.kaggle.com/c/web-traffic-time-series-forecasting/data).\n",
    "\n",
    "The dataset is a time series dataset with 145,063 entries and 551 columns.  The dataset uses 609.8+ MB of memory!  The original data contained two sets of data, but I was only able to work with one set because of the  huge memory usage.\n",
    "\n",
    "The dataset does not distinguish between traffic values of zero and missing values. A missing value may mean the traffic was zero or that the data is not available for that day.  For accurate representation, any null value was imputed to the mean value of traffic/visits for that day.\n",
    "\n",
    "There are 145,063 observations with 551 columns which represent the following:\n",
    "\n",
    "1. Page (Article visited by all kinds of devices)\n",
    "2. Dates from July 1, 2015 through December 31, 2016 (550 Columns)."
   ]
  },
  {
   "cell_type": "markdown",
   "metadata": {
    "colab_type": "text",
    "id": "z2gBO9wfuiIc"
   },
   "source": [
    "## *Import Libraries*"
   ]
  },
  {
   "cell_type": "code",
   "execution_count": 1,
   "metadata": {
    "colab": {
     "base_uri": "https://localhost:8080/",
     "height": 71
    },
    "colab_type": "code",
    "id": "V4yM0Ip7uZcS",
    "outputId": "6ecd42bb-2c3d-4fb9-aa9a-0e95f57f70e9"
   },
   "outputs": [],
   "source": [
    "#Loading necessary packages for this machine learning analysis.\n",
    "import numpy as np\n",
    "import pandas as pd\n",
    "%matplotlib inline\n",
    "import matplotlib.pyplot as plt\n",
    "import seaborn as sns\n",
    "from sklearn.model_selection import LeaveOneOut, KFold, train_test_split\n",
    "from sklearn.metrics import accuracy_score, confusion_matrix, f1_score\n",
    "import sklearn.ensemble"
   ]
  },
  {
   "cell_type": "code",
   "execution_count": 3,
   "metadata": {
    "colab": {},
    "colab_type": "code",
    "id": "NCoxGngmxnaU"
   },
   "outputs": [],
   "source": [
    "from pandas import DataFrame\n",
    "from pandas import Series\n",
    "from pandas import concat\n",
    "from pandas import datetime\n",
    "from sklearn.metrics import mean_squared_error\n",
    "from sklearn.preprocessing import MinMaxScaler\n",
    "from sklearn.preprocessing import StandardScaler\n",
    "from math import sqrt\n",
    "import warnings\n",
    "warnings.filterwarnings('ignore')"
   ]
  },
  {
   "cell_type": "code",
   "execution_count": 4,
   "metadata": {
    "colab": {
     "base_uri": "https://localhost:8080/",
     "height": 34
    },
    "colab_type": "code",
    "id": "APW1ZGQUutTn",
    "outputId": "e382c09e-9f29-4d6b-e85c-8c8d1959e513"
   },
   "outputs": [],
   "source": [
    "#Loading Keras/TensorFlow,significant packages for machine learning.\n",
    "import tensorflow as tf\n",
    "from keras.models import Sequential\n",
    "from keras.layers import Dense, Dropout\n",
    "from keras.layers import LSTM\n",
    "from keras import regularizers\n",
    "from keras.optimizers import SGD, RMSprop, Adagrad, Adadelta, Adam, Adamax, Nadam\n",
    "from keras.callbacks import EarlyStopping, ModelCheckpoint\n",
    "from keras.metrics import categorical_crossentropy"
   ]
  },
  {
   "cell_type": "markdown",
   "metadata": {
    "colab_type": "text",
    "id": "2WhoMQO0u2BI"
   },
   "source": [
    "## *Load Dataset*"
   ]
  },
  {
   "cell_type": "code",
   "execution_count": 4,
   "metadata": {
    "colab": {
     "base_uri": "https://localhost:8080/",
     "height": 488
    },
    "colab_type": "code",
    "id": "v0wfBar4uzmP",
    "outputId": "9e3e12fd-5c05-46de-ebcc-b9191f7376d8"
   },
   "outputs": [
    {
     "data": {
      "text/html": [
       "<div>\n",
       "<style scoped>\n",
       "    .dataframe tbody tr th:only-of-type {\n",
       "        vertical-align: middle;\n",
       "    }\n",
       "\n",
       "    .dataframe tbody tr th {\n",
       "        vertical-align: top;\n",
       "    }\n",
       "\n",
       "    .dataframe thead th {\n",
       "        text-align: right;\n",
       "    }\n",
       "</style>\n",
       "<table border=\"1\" class=\"dataframe\">\n",
       "  <thead>\n",
       "    <tr style=\"text-align: right;\">\n",
       "      <th></th>\n",
       "      <th>Page</th>\n",
       "      <th>2015-07-01</th>\n",
       "      <th>2015-07-02</th>\n",
       "      <th>2015-07-03</th>\n",
       "      <th>2015-07-04</th>\n",
       "      <th>2015-07-05</th>\n",
       "      <th>2015-07-06</th>\n",
       "      <th>2015-07-07</th>\n",
       "      <th>2015-07-08</th>\n",
       "      <th>2015-07-09</th>\n",
       "      <th>...</th>\n",
       "      <th>2016-12-22</th>\n",
       "      <th>2016-12-23</th>\n",
       "      <th>2016-12-24</th>\n",
       "      <th>2016-12-25</th>\n",
       "      <th>2016-12-26</th>\n",
       "      <th>2016-12-27</th>\n",
       "      <th>2016-12-28</th>\n",
       "      <th>2016-12-29</th>\n",
       "      <th>2016-12-30</th>\n",
       "      <th>2016-12-31</th>\n",
       "    </tr>\n",
       "  </thead>\n",
       "  <tbody>\n",
       "    <tr>\n",
       "      <th>0</th>\n",
       "      <td>2NE1_zh.wikipedia.org_all-access_spider</td>\n",
       "      <td>18.0</td>\n",
       "      <td>11.0</td>\n",
       "      <td>5.0</td>\n",
       "      <td>13.0</td>\n",
       "      <td>14.0</td>\n",
       "      <td>9.0</td>\n",
       "      <td>9.0</td>\n",
       "      <td>22.0</td>\n",
       "      <td>26.0</td>\n",
       "      <td>...</td>\n",
       "      <td>32.0</td>\n",
       "      <td>63.0</td>\n",
       "      <td>15.0</td>\n",
       "      <td>26.0</td>\n",
       "      <td>14.0</td>\n",
       "      <td>20.0</td>\n",
       "      <td>22.0</td>\n",
       "      <td>19.0</td>\n",
       "      <td>18.0</td>\n",
       "      <td>20.0</td>\n",
       "    </tr>\n",
       "    <tr>\n",
       "      <th>1</th>\n",
       "      <td>2PM_zh.wikipedia.org_all-access_spider</td>\n",
       "      <td>11.0</td>\n",
       "      <td>14.0</td>\n",
       "      <td>15.0</td>\n",
       "      <td>18.0</td>\n",
       "      <td>11.0</td>\n",
       "      <td>13.0</td>\n",
       "      <td>22.0</td>\n",
       "      <td>11.0</td>\n",
       "      <td>10.0</td>\n",
       "      <td>...</td>\n",
       "      <td>17.0</td>\n",
       "      <td>42.0</td>\n",
       "      <td>28.0</td>\n",
       "      <td>15.0</td>\n",
       "      <td>9.0</td>\n",
       "      <td>30.0</td>\n",
       "      <td>52.0</td>\n",
       "      <td>45.0</td>\n",
       "      <td>26.0</td>\n",
       "      <td>20.0</td>\n",
       "    </tr>\n",
       "    <tr>\n",
       "      <th>2</th>\n",
       "      <td>3C_zh.wikipedia.org_all-access_spider</td>\n",
       "      <td>1.0</td>\n",
       "      <td>0.0</td>\n",
       "      <td>1.0</td>\n",
       "      <td>1.0</td>\n",
       "      <td>0.0</td>\n",
       "      <td>4.0</td>\n",
       "      <td>0.0</td>\n",
       "      <td>3.0</td>\n",
       "      <td>4.0</td>\n",
       "      <td>...</td>\n",
       "      <td>3.0</td>\n",
       "      <td>1.0</td>\n",
       "      <td>1.0</td>\n",
       "      <td>7.0</td>\n",
       "      <td>4.0</td>\n",
       "      <td>4.0</td>\n",
       "      <td>6.0</td>\n",
       "      <td>3.0</td>\n",
       "      <td>4.0</td>\n",
       "      <td>17.0</td>\n",
       "    </tr>\n",
       "    <tr>\n",
       "      <th>3</th>\n",
       "      <td>4minute_zh.wikipedia.org_all-access_spider</td>\n",
       "      <td>35.0</td>\n",
       "      <td>13.0</td>\n",
       "      <td>10.0</td>\n",
       "      <td>94.0</td>\n",
       "      <td>4.0</td>\n",
       "      <td>26.0</td>\n",
       "      <td>14.0</td>\n",
       "      <td>9.0</td>\n",
       "      <td>11.0</td>\n",
       "      <td>...</td>\n",
       "      <td>32.0</td>\n",
       "      <td>10.0</td>\n",
       "      <td>26.0</td>\n",
       "      <td>27.0</td>\n",
       "      <td>16.0</td>\n",
       "      <td>11.0</td>\n",
       "      <td>17.0</td>\n",
       "      <td>19.0</td>\n",
       "      <td>10.0</td>\n",
       "      <td>11.0</td>\n",
       "    </tr>\n",
       "    <tr>\n",
       "      <th>4</th>\n",
       "      <td>52_Hz_I_Love_You_zh.wikipedia.org_all-access_s...</td>\n",
       "      <td>NaN</td>\n",
       "      <td>NaN</td>\n",
       "      <td>NaN</td>\n",
       "      <td>NaN</td>\n",
       "      <td>NaN</td>\n",
       "      <td>NaN</td>\n",
       "      <td>NaN</td>\n",
       "      <td>NaN</td>\n",
       "      <td>NaN</td>\n",
       "      <td>...</td>\n",
       "      <td>48.0</td>\n",
       "      <td>9.0</td>\n",
       "      <td>25.0</td>\n",
       "      <td>13.0</td>\n",
       "      <td>3.0</td>\n",
       "      <td>11.0</td>\n",
       "      <td>27.0</td>\n",
       "      <td>13.0</td>\n",
       "      <td>36.0</td>\n",
       "      <td>10.0</td>\n",
       "    </tr>\n",
       "    <tr>\n",
       "      <th>...</th>\n",
       "      <td>...</td>\n",
       "      <td>...</td>\n",
       "      <td>...</td>\n",
       "      <td>...</td>\n",
       "      <td>...</td>\n",
       "      <td>...</td>\n",
       "      <td>...</td>\n",
       "      <td>...</td>\n",
       "      <td>...</td>\n",
       "      <td>...</td>\n",
       "      <td>...</td>\n",
       "      <td>...</td>\n",
       "      <td>...</td>\n",
       "      <td>...</td>\n",
       "      <td>...</td>\n",
       "      <td>...</td>\n",
       "      <td>...</td>\n",
       "      <td>...</td>\n",
       "      <td>...</td>\n",
       "      <td>...</td>\n",
       "      <td>...</td>\n",
       "    </tr>\n",
       "    <tr>\n",
       "      <th>145058</th>\n",
       "      <td>Underworld_(serie_de_películas)_es.wikipedia.o...</td>\n",
       "      <td>NaN</td>\n",
       "      <td>NaN</td>\n",
       "      <td>NaN</td>\n",
       "      <td>NaN</td>\n",
       "      <td>NaN</td>\n",
       "      <td>NaN</td>\n",
       "      <td>NaN</td>\n",
       "      <td>NaN</td>\n",
       "      <td>NaN</td>\n",
       "      <td>...</td>\n",
       "      <td>NaN</td>\n",
       "      <td>NaN</td>\n",
       "      <td>NaN</td>\n",
       "      <td>NaN</td>\n",
       "      <td>13.0</td>\n",
       "      <td>12.0</td>\n",
       "      <td>13.0</td>\n",
       "      <td>3.0</td>\n",
       "      <td>5.0</td>\n",
       "      <td>10.0</td>\n",
       "    </tr>\n",
       "    <tr>\n",
       "      <th>145059</th>\n",
       "      <td>Resident_Evil:_Capítulo_Final_es.wikipedia.org...</td>\n",
       "      <td>NaN</td>\n",
       "      <td>NaN</td>\n",
       "      <td>NaN</td>\n",
       "      <td>NaN</td>\n",
       "      <td>NaN</td>\n",
       "      <td>NaN</td>\n",
       "      <td>NaN</td>\n",
       "      <td>NaN</td>\n",
       "      <td>NaN</td>\n",
       "      <td>...</td>\n",
       "      <td>NaN</td>\n",
       "      <td>NaN</td>\n",
       "      <td>NaN</td>\n",
       "      <td>NaN</td>\n",
       "      <td>NaN</td>\n",
       "      <td>NaN</td>\n",
       "      <td>NaN</td>\n",
       "      <td>NaN</td>\n",
       "      <td>NaN</td>\n",
       "      <td>NaN</td>\n",
       "    </tr>\n",
       "    <tr>\n",
       "      <th>145060</th>\n",
       "      <td>Enamorándome_de_Ramón_es.wikipedia.org_all-acc...</td>\n",
       "      <td>NaN</td>\n",
       "      <td>NaN</td>\n",
       "      <td>NaN</td>\n",
       "      <td>NaN</td>\n",
       "      <td>NaN</td>\n",
       "      <td>NaN</td>\n",
       "      <td>NaN</td>\n",
       "      <td>NaN</td>\n",
       "      <td>NaN</td>\n",
       "      <td>...</td>\n",
       "      <td>NaN</td>\n",
       "      <td>NaN</td>\n",
       "      <td>NaN</td>\n",
       "      <td>NaN</td>\n",
       "      <td>NaN</td>\n",
       "      <td>NaN</td>\n",
       "      <td>NaN</td>\n",
       "      <td>NaN</td>\n",
       "      <td>NaN</td>\n",
       "      <td>NaN</td>\n",
       "    </tr>\n",
       "    <tr>\n",
       "      <th>145061</th>\n",
       "      <td>Hasta_el_último_hombre_es.wikipedia.org_all-ac...</td>\n",
       "      <td>NaN</td>\n",
       "      <td>NaN</td>\n",
       "      <td>NaN</td>\n",
       "      <td>NaN</td>\n",
       "      <td>NaN</td>\n",
       "      <td>NaN</td>\n",
       "      <td>NaN</td>\n",
       "      <td>NaN</td>\n",
       "      <td>NaN</td>\n",
       "      <td>...</td>\n",
       "      <td>NaN</td>\n",
       "      <td>NaN</td>\n",
       "      <td>NaN</td>\n",
       "      <td>NaN</td>\n",
       "      <td>NaN</td>\n",
       "      <td>NaN</td>\n",
       "      <td>NaN</td>\n",
       "      <td>NaN</td>\n",
       "      <td>NaN</td>\n",
       "      <td>NaN</td>\n",
       "    </tr>\n",
       "    <tr>\n",
       "      <th>145062</th>\n",
       "      <td>Francisco_el_matemático_(serie_de_televisión_d...</td>\n",
       "      <td>NaN</td>\n",
       "      <td>NaN</td>\n",
       "      <td>NaN</td>\n",
       "      <td>NaN</td>\n",
       "      <td>NaN</td>\n",
       "      <td>NaN</td>\n",
       "      <td>NaN</td>\n",
       "      <td>NaN</td>\n",
       "      <td>NaN</td>\n",
       "      <td>...</td>\n",
       "      <td>NaN</td>\n",
       "      <td>NaN</td>\n",
       "      <td>NaN</td>\n",
       "      <td>NaN</td>\n",
       "      <td>NaN</td>\n",
       "      <td>NaN</td>\n",
       "      <td>NaN</td>\n",
       "      <td>NaN</td>\n",
       "      <td>NaN</td>\n",
       "      <td>NaN</td>\n",
       "    </tr>\n",
       "  </tbody>\n",
       "</table>\n",
       "<p>145063 rows × 551 columns</p>\n",
       "</div>"
      ],
      "text/plain": [
       "                                                     Page  2015-07-01  \\\n",
       "0                 2NE1_zh.wikipedia.org_all-access_spider        18.0   \n",
       "1                  2PM_zh.wikipedia.org_all-access_spider        11.0   \n",
       "2                   3C_zh.wikipedia.org_all-access_spider         1.0   \n",
       "3              4minute_zh.wikipedia.org_all-access_spider        35.0   \n",
       "4       52_Hz_I_Love_You_zh.wikipedia.org_all-access_s...         NaN   \n",
       "...                                                   ...         ...   \n",
       "145058  Underworld_(serie_de_películas)_es.wikipedia.o...         NaN   \n",
       "145059  Resident_Evil:_Capítulo_Final_es.wikipedia.org...         NaN   \n",
       "145060  Enamorándome_de_Ramón_es.wikipedia.org_all-acc...         NaN   \n",
       "145061  Hasta_el_último_hombre_es.wikipedia.org_all-ac...         NaN   \n",
       "145062  Francisco_el_matemático_(serie_de_televisión_d...         NaN   \n",
       "\n",
       "        2015-07-02  2015-07-03  2015-07-04  2015-07-05  2015-07-06  \\\n",
       "0             11.0         5.0        13.0        14.0         9.0   \n",
       "1             14.0        15.0        18.0        11.0        13.0   \n",
       "2              0.0         1.0         1.0         0.0         4.0   \n",
       "3             13.0        10.0        94.0         4.0        26.0   \n",
       "4              NaN         NaN         NaN         NaN         NaN   \n",
       "...            ...         ...         ...         ...         ...   \n",
       "145058         NaN         NaN         NaN         NaN         NaN   \n",
       "145059         NaN         NaN         NaN         NaN         NaN   \n",
       "145060         NaN         NaN         NaN         NaN         NaN   \n",
       "145061         NaN         NaN         NaN         NaN         NaN   \n",
       "145062         NaN         NaN         NaN         NaN         NaN   \n",
       "\n",
       "        2015-07-07  2015-07-08  2015-07-09  ...  2016-12-22  2016-12-23  \\\n",
       "0              9.0        22.0        26.0  ...        32.0        63.0   \n",
       "1             22.0        11.0        10.0  ...        17.0        42.0   \n",
       "2              0.0         3.0         4.0  ...         3.0         1.0   \n",
       "3             14.0         9.0        11.0  ...        32.0        10.0   \n",
       "4              NaN         NaN         NaN  ...        48.0         9.0   \n",
       "...            ...         ...         ...  ...         ...         ...   \n",
       "145058         NaN         NaN         NaN  ...         NaN         NaN   \n",
       "145059         NaN         NaN         NaN  ...         NaN         NaN   \n",
       "145060         NaN         NaN         NaN  ...         NaN         NaN   \n",
       "145061         NaN         NaN         NaN  ...         NaN         NaN   \n",
       "145062         NaN         NaN         NaN  ...         NaN         NaN   \n",
       "\n",
       "        2016-12-24  2016-12-25  2016-12-26  2016-12-27  2016-12-28  \\\n",
       "0             15.0        26.0        14.0        20.0        22.0   \n",
       "1             28.0        15.0         9.0        30.0        52.0   \n",
       "2              1.0         7.0         4.0         4.0         6.0   \n",
       "3             26.0        27.0        16.0        11.0        17.0   \n",
       "4             25.0        13.0         3.0        11.0        27.0   \n",
       "...            ...         ...         ...         ...         ...   \n",
       "145058         NaN         NaN        13.0        12.0        13.0   \n",
       "145059         NaN         NaN         NaN         NaN         NaN   \n",
       "145060         NaN         NaN         NaN         NaN         NaN   \n",
       "145061         NaN         NaN         NaN         NaN         NaN   \n",
       "145062         NaN         NaN         NaN         NaN         NaN   \n",
       "\n",
       "        2016-12-29  2016-12-30  2016-12-31  \n",
       "0             19.0        18.0        20.0  \n",
       "1             45.0        26.0        20.0  \n",
       "2              3.0         4.0        17.0  \n",
       "3             19.0        10.0        11.0  \n",
       "4             13.0        36.0        10.0  \n",
       "...            ...         ...         ...  \n",
       "145058         3.0         5.0        10.0  \n",
       "145059         NaN         NaN         NaN  \n",
       "145060         NaN         NaN         NaN  \n",
       "145061         NaN         NaN         NaN  \n",
       "145062         NaN         NaN         NaN  \n",
       "\n",
       "[145063 rows x 551 columns]"
      ]
     },
     "execution_count": 4,
     "metadata": {},
     "output_type": "execute_result"
    }
   ],
   "source": [
    "#Dataset of web traffic was saved into my bucket in google cloud.\n",
    "raw_data= pd.read_csv('https://storage.googleapis.com/mydata-777/train_1.csv')\n",
    "raw_data"
   ]
  },
  {
   "cell_type": "code",
   "execution_count": 5,
   "metadata": {
    "colab": {
     "base_uri": "https://localhost:8080/",
     "height": 103
    },
    "colab_type": "code",
    "id": "Z3FaxoqWvIFz",
    "outputId": "6e425c23-c283-4e40-9c7d-838c10c23cd9"
   },
   "outputs": [
    {
     "name": "stdout",
     "output_type": "stream",
     "text": [
      "<class 'pandas.core.frame.DataFrame'>\n",
      "RangeIndex: 145063 entries, 0 to 145062\n",
      "Columns: 551 entries, Page to 2016-12-31\n",
      "dtypes: float64(550), object(1)\n",
      "memory usage: 609.8+ MB\n"
     ]
    }
   ],
   "source": [
    "raw_data.info()"
   ]
  },
  {
   "cell_type": "code",
   "execution_count": 6,
   "metadata": {
    "colab": {
     "base_uri": "https://localhost:8080/",
     "height": 120
    },
    "colab_type": "code",
    "id": "YfXTmj1nvS9A",
    "outputId": "87f1fbef-6912-41e7-a5a7-afd918f86cd1"
   },
   "outputs": [
    {
     "data": {
      "text/plain": [
       "Index(['Page', '2015-07-01', '2015-07-02', '2015-07-03', '2015-07-04',\n",
       "       '2015-07-05', '2015-07-06', '2015-07-07', '2015-07-08', '2015-07-09',\n",
       "       ...\n",
       "       '2016-12-22', '2016-12-23', '2016-12-24', '2016-12-25', '2016-12-26',\n",
       "       '2016-12-27', '2016-12-28', '2016-12-29', '2016-12-30', '2016-12-31'],\n",
       "      dtype='object', length=551)"
      ]
     },
     "execution_count": 6,
     "metadata": {},
     "output_type": "execute_result"
    }
   ],
   "source": [
    "raw_data.columns"
   ]
  },
  {
   "cell_type": "markdown",
   "metadata": {
    "colab_type": "text",
    "id": "KbM8zq802Qk9"
   },
   "source": [
    "## ***Cleaning Data***"
   ]
  },
  {
   "cell_type": "code",
   "execution_count": 7,
   "metadata": {
    "colab": {
     "base_uri": "https://localhost:8080/",
     "height": 454
    },
    "colab_type": "code",
    "id": "mRDbOQSwvcou",
    "outputId": "cafb06f5-54aa-45f3-8a4f-ebbc2277f757"
   },
   "outputs": [
    {
     "data": {
      "text/html": [
       "<div>\n",
       "<style scoped>\n",
       "    .dataframe tbody tr th:only-of-type {\n",
       "        vertical-align: middle;\n",
       "    }\n",
       "\n",
       "    .dataframe tbody tr th {\n",
       "        vertical-align: top;\n",
       "    }\n",
       "\n",
       "    .dataframe thead th {\n",
       "        text-align: right;\n",
       "    }\n",
       "</style>\n",
       "<table border=\"1\" class=\"dataframe\">\n",
       "  <thead>\n",
       "    <tr style=\"text-align: right;\">\n",
       "      <th></th>\n",
       "      <th>2015-07-01</th>\n",
       "      <th>2015-07-02</th>\n",
       "      <th>2015-07-03</th>\n",
       "      <th>2015-07-04</th>\n",
       "      <th>2015-07-05</th>\n",
       "      <th>2015-07-06</th>\n",
       "      <th>2015-07-07</th>\n",
       "      <th>2015-07-08</th>\n",
       "      <th>2015-07-09</th>\n",
       "      <th>2015-07-10</th>\n",
       "      <th>...</th>\n",
       "      <th>2016-12-22</th>\n",
       "      <th>2016-12-23</th>\n",
       "      <th>2016-12-24</th>\n",
       "      <th>2016-12-25</th>\n",
       "      <th>2016-12-26</th>\n",
       "      <th>2016-12-27</th>\n",
       "      <th>2016-12-28</th>\n",
       "      <th>2016-12-29</th>\n",
       "      <th>2016-12-30</th>\n",
       "      <th>2016-12-31</th>\n",
       "    </tr>\n",
       "  </thead>\n",
       "  <tbody>\n",
       "    <tr>\n",
       "      <th>0</th>\n",
       "      <td>18.0</td>\n",
       "      <td>11.0</td>\n",
       "      <td>5.0</td>\n",
       "      <td>13.0</td>\n",
       "      <td>14.0</td>\n",
       "      <td>9.0</td>\n",
       "      <td>9.0</td>\n",
       "      <td>22.0</td>\n",
       "      <td>26.0</td>\n",
       "      <td>24.0</td>\n",
       "      <td>...</td>\n",
       "      <td>32.0</td>\n",
       "      <td>63.0</td>\n",
       "      <td>15.0</td>\n",
       "      <td>26.0</td>\n",
       "      <td>14.0</td>\n",
       "      <td>20.0</td>\n",
       "      <td>22.0</td>\n",
       "      <td>19.0</td>\n",
       "      <td>18.0</td>\n",
       "      <td>20.0</td>\n",
       "    </tr>\n",
       "    <tr>\n",
       "      <th>1</th>\n",
       "      <td>11.0</td>\n",
       "      <td>14.0</td>\n",
       "      <td>15.0</td>\n",
       "      <td>18.0</td>\n",
       "      <td>11.0</td>\n",
       "      <td>13.0</td>\n",
       "      <td>22.0</td>\n",
       "      <td>11.0</td>\n",
       "      <td>10.0</td>\n",
       "      <td>4.0</td>\n",
       "      <td>...</td>\n",
       "      <td>17.0</td>\n",
       "      <td>42.0</td>\n",
       "      <td>28.0</td>\n",
       "      <td>15.0</td>\n",
       "      <td>9.0</td>\n",
       "      <td>30.0</td>\n",
       "      <td>52.0</td>\n",
       "      <td>45.0</td>\n",
       "      <td>26.0</td>\n",
       "      <td>20.0</td>\n",
       "    </tr>\n",
       "    <tr>\n",
       "      <th>2</th>\n",
       "      <td>1.0</td>\n",
       "      <td>0.0</td>\n",
       "      <td>1.0</td>\n",
       "      <td>1.0</td>\n",
       "      <td>0.0</td>\n",
       "      <td>4.0</td>\n",
       "      <td>0.0</td>\n",
       "      <td>3.0</td>\n",
       "      <td>4.0</td>\n",
       "      <td>4.0</td>\n",
       "      <td>...</td>\n",
       "      <td>3.0</td>\n",
       "      <td>1.0</td>\n",
       "      <td>1.0</td>\n",
       "      <td>7.0</td>\n",
       "      <td>4.0</td>\n",
       "      <td>4.0</td>\n",
       "      <td>6.0</td>\n",
       "      <td>3.0</td>\n",
       "      <td>4.0</td>\n",
       "      <td>17.0</td>\n",
       "    </tr>\n",
       "    <tr>\n",
       "      <th>3</th>\n",
       "      <td>35.0</td>\n",
       "      <td>13.0</td>\n",
       "      <td>10.0</td>\n",
       "      <td>94.0</td>\n",
       "      <td>4.0</td>\n",
       "      <td>26.0</td>\n",
       "      <td>14.0</td>\n",
       "      <td>9.0</td>\n",
       "      <td>11.0</td>\n",
       "      <td>16.0</td>\n",
       "      <td>...</td>\n",
       "      <td>32.0</td>\n",
       "      <td>10.0</td>\n",
       "      <td>26.0</td>\n",
       "      <td>27.0</td>\n",
       "      <td>16.0</td>\n",
       "      <td>11.0</td>\n",
       "      <td>17.0</td>\n",
       "      <td>19.0</td>\n",
       "      <td>10.0</td>\n",
       "      <td>11.0</td>\n",
       "    </tr>\n",
       "    <tr>\n",
       "      <th>4</th>\n",
       "      <td>NaN</td>\n",
       "      <td>NaN</td>\n",
       "      <td>NaN</td>\n",
       "      <td>NaN</td>\n",
       "      <td>NaN</td>\n",
       "      <td>NaN</td>\n",
       "      <td>NaN</td>\n",
       "      <td>NaN</td>\n",
       "      <td>NaN</td>\n",
       "      <td>NaN</td>\n",
       "      <td>...</td>\n",
       "      <td>48.0</td>\n",
       "      <td>9.0</td>\n",
       "      <td>25.0</td>\n",
       "      <td>13.0</td>\n",
       "      <td>3.0</td>\n",
       "      <td>11.0</td>\n",
       "      <td>27.0</td>\n",
       "      <td>13.0</td>\n",
       "      <td>36.0</td>\n",
       "      <td>10.0</td>\n",
       "    </tr>\n",
       "    <tr>\n",
       "      <th>...</th>\n",
       "      <td>...</td>\n",
       "      <td>...</td>\n",
       "      <td>...</td>\n",
       "      <td>...</td>\n",
       "      <td>...</td>\n",
       "      <td>...</td>\n",
       "      <td>...</td>\n",
       "      <td>...</td>\n",
       "      <td>...</td>\n",
       "      <td>...</td>\n",
       "      <td>...</td>\n",
       "      <td>...</td>\n",
       "      <td>...</td>\n",
       "      <td>...</td>\n",
       "      <td>...</td>\n",
       "      <td>...</td>\n",
       "      <td>...</td>\n",
       "      <td>...</td>\n",
       "      <td>...</td>\n",
       "      <td>...</td>\n",
       "      <td>...</td>\n",
       "    </tr>\n",
       "    <tr>\n",
       "      <th>145058</th>\n",
       "      <td>NaN</td>\n",
       "      <td>NaN</td>\n",
       "      <td>NaN</td>\n",
       "      <td>NaN</td>\n",
       "      <td>NaN</td>\n",
       "      <td>NaN</td>\n",
       "      <td>NaN</td>\n",
       "      <td>NaN</td>\n",
       "      <td>NaN</td>\n",
       "      <td>NaN</td>\n",
       "      <td>...</td>\n",
       "      <td>NaN</td>\n",
       "      <td>NaN</td>\n",
       "      <td>NaN</td>\n",
       "      <td>NaN</td>\n",
       "      <td>13.0</td>\n",
       "      <td>12.0</td>\n",
       "      <td>13.0</td>\n",
       "      <td>3.0</td>\n",
       "      <td>5.0</td>\n",
       "      <td>10.0</td>\n",
       "    </tr>\n",
       "    <tr>\n",
       "      <th>145059</th>\n",
       "      <td>NaN</td>\n",
       "      <td>NaN</td>\n",
       "      <td>NaN</td>\n",
       "      <td>NaN</td>\n",
       "      <td>NaN</td>\n",
       "      <td>NaN</td>\n",
       "      <td>NaN</td>\n",
       "      <td>NaN</td>\n",
       "      <td>NaN</td>\n",
       "      <td>NaN</td>\n",
       "      <td>...</td>\n",
       "      <td>NaN</td>\n",
       "      <td>NaN</td>\n",
       "      <td>NaN</td>\n",
       "      <td>NaN</td>\n",
       "      <td>NaN</td>\n",
       "      <td>NaN</td>\n",
       "      <td>NaN</td>\n",
       "      <td>NaN</td>\n",
       "      <td>NaN</td>\n",
       "      <td>NaN</td>\n",
       "    </tr>\n",
       "    <tr>\n",
       "      <th>145060</th>\n",
       "      <td>NaN</td>\n",
       "      <td>NaN</td>\n",
       "      <td>NaN</td>\n",
       "      <td>NaN</td>\n",
       "      <td>NaN</td>\n",
       "      <td>NaN</td>\n",
       "      <td>NaN</td>\n",
       "      <td>NaN</td>\n",
       "      <td>NaN</td>\n",
       "      <td>NaN</td>\n",
       "      <td>...</td>\n",
       "      <td>NaN</td>\n",
       "      <td>NaN</td>\n",
       "      <td>NaN</td>\n",
       "      <td>NaN</td>\n",
       "      <td>NaN</td>\n",
       "      <td>NaN</td>\n",
       "      <td>NaN</td>\n",
       "      <td>NaN</td>\n",
       "      <td>NaN</td>\n",
       "      <td>NaN</td>\n",
       "    </tr>\n",
       "    <tr>\n",
       "      <th>145061</th>\n",
       "      <td>NaN</td>\n",
       "      <td>NaN</td>\n",
       "      <td>NaN</td>\n",
       "      <td>NaN</td>\n",
       "      <td>NaN</td>\n",
       "      <td>NaN</td>\n",
       "      <td>NaN</td>\n",
       "      <td>NaN</td>\n",
       "      <td>NaN</td>\n",
       "      <td>NaN</td>\n",
       "      <td>...</td>\n",
       "      <td>NaN</td>\n",
       "      <td>NaN</td>\n",
       "      <td>NaN</td>\n",
       "      <td>NaN</td>\n",
       "      <td>NaN</td>\n",
       "      <td>NaN</td>\n",
       "      <td>NaN</td>\n",
       "      <td>NaN</td>\n",
       "      <td>NaN</td>\n",
       "      <td>NaN</td>\n",
       "    </tr>\n",
       "    <tr>\n",
       "      <th>145062</th>\n",
       "      <td>NaN</td>\n",
       "      <td>NaN</td>\n",
       "      <td>NaN</td>\n",
       "      <td>NaN</td>\n",
       "      <td>NaN</td>\n",
       "      <td>NaN</td>\n",
       "      <td>NaN</td>\n",
       "      <td>NaN</td>\n",
       "      <td>NaN</td>\n",
       "      <td>NaN</td>\n",
       "      <td>...</td>\n",
       "      <td>NaN</td>\n",
       "      <td>NaN</td>\n",
       "      <td>NaN</td>\n",
       "      <td>NaN</td>\n",
       "      <td>NaN</td>\n",
       "      <td>NaN</td>\n",
       "      <td>NaN</td>\n",
       "      <td>NaN</td>\n",
       "      <td>NaN</td>\n",
       "      <td>NaN</td>\n",
       "    </tr>\n",
       "  </tbody>\n",
       "</table>\n",
       "<p>145063 rows × 550 columns</p>\n",
       "</div>"
      ],
      "text/plain": [
       "        2015-07-01  2015-07-02  2015-07-03  2015-07-04  2015-07-05  \\\n",
       "0             18.0        11.0         5.0        13.0        14.0   \n",
       "1             11.0        14.0        15.0        18.0        11.0   \n",
       "2              1.0         0.0         1.0         1.0         0.0   \n",
       "3             35.0        13.0        10.0        94.0         4.0   \n",
       "4              NaN         NaN         NaN         NaN         NaN   \n",
       "...            ...         ...         ...         ...         ...   \n",
       "145058         NaN         NaN         NaN         NaN         NaN   \n",
       "145059         NaN         NaN         NaN         NaN         NaN   \n",
       "145060         NaN         NaN         NaN         NaN         NaN   \n",
       "145061         NaN         NaN         NaN         NaN         NaN   \n",
       "145062         NaN         NaN         NaN         NaN         NaN   \n",
       "\n",
       "        2015-07-06  2015-07-07  2015-07-08  2015-07-09  2015-07-10  ...  \\\n",
       "0              9.0         9.0        22.0        26.0        24.0  ...   \n",
       "1             13.0        22.0        11.0        10.0         4.0  ...   \n",
       "2              4.0         0.0         3.0         4.0         4.0  ...   \n",
       "3             26.0        14.0         9.0        11.0        16.0  ...   \n",
       "4              NaN         NaN         NaN         NaN         NaN  ...   \n",
       "...            ...         ...         ...         ...         ...  ...   \n",
       "145058         NaN         NaN         NaN         NaN         NaN  ...   \n",
       "145059         NaN         NaN         NaN         NaN         NaN  ...   \n",
       "145060         NaN         NaN         NaN         NaN         NaN  ...   \n",
       "145061         NaN         NaN         NaN         NaN         NaN  ...   \n",
       "145062         NaN         NaN         NaN         NaN         NaN  ...   \n",
       "\n",
       "        2016-12-22  2016-12-23  2016-12-24  2016-12-25  2016-12-26  \\\n",
       "0             32.0        63.0        15.0        26.0        14.0   \n",
       "1             17.0        42.0        28.0        15.0         9.0   \n",
       "2              3.0         1.0         1.0         7.0         4.0   \n",
       "3             32.0        10.0        26.0        27.0        16.0   \n",
       "4             48.0         9.0        25.0        13.0         3.0   \n",
       "...            ...         ...         ...         ...         ...   \n",
       "145058         NaN         NaN         NaN         NaN        13.0   \n",
       "145059         NaN         NaN         NaN         NaN         NaN   \n",
       "145060         NaN         NaN         NaN         NaN         NaN   \n",
       "145061         NaN         NaN         NaN         NaN         NaN   \n",
       "145062         NaN         NaN         NaN         NaN         NaN   \n",
       "\n",
       "        2016-12-27  2016-12-28  2016-12-29  2016-12-30  2016-12-31  \n",
       "0             20.0        22.0        19.0        18.0        20.0  \n",
       "1             30.0        52.0        45.0        26.0        20.0  \n",
       "2              4.0         6.0         3.0         4.0        17.0  \n",
       "3             11.0        17.0        19.0        10.0        11.0  \n",
       "4             11.0        27.0        13.0        36.0        10.0  \n",
       "...            ...         ...         ...         ...         ...  \n",
       "145058        12.0        13.0         3.0         5.0        10.0  \n",
       "145059         NaN         NaN         NaN         NaN         NaN  \n",
       "145060         NaN         NaN         NaN         NaN         NaN  \n",
       "145061         NaN         NaN         NaN         NaN         NaN  \n",
       "145062         NaN         NaN         NaN         NaN         NaN  \n",
       "\n",
       "[145063 rows x 550 columns]"
      ]
     },
     "execution_count": 7,
     "metadata": {},
     "output_type": "execute_result"
    }
   ],
   "source": [
    "#Dropping 'Page' column because not needed for analysis.\n",
    "data = raw_data.drop(['Page'], axis=1)\n",
    "data"
   ]
  },
  {
   "cell_type": "code",
   "execution_count": 8,
   "metadata": {
    "colab": {
     "base_uri": "https://localhost:8080/",
     "height": 223
    },
    "colab_type": "code",
    "id": "poW97Wb2vjux",
    "outputId": "51d2101b-a7a3-4373-dad4-222c6ab2950c"
   },
   "outputs": [
    {
     "data": {
      "text/plain": [
       "2015-07-01    20740\n",
       "2015-07-02    20816\n",
       "2015-07-03    20544\n",
       "2015-07-04    20654\n",
       "2015-07-05    20659\n",
       "              ...  \n",
       "2016-12-27     3701\n",
       "2016-12-28     3822\n",
       "2016-12-29     3826\n",
       "2016-12-30     3635\n",
       "2016-12-31     3465\n",
       "Length: 550, dtype: int64"
      ]
     },
     "execution_count": 8,
     "metadata": {},
     "output_type": "execute_result"
    }
   ],
   "source": [
    "data.isnull().sum()"
   ]
  },
  {
   "cell_type": "code",
   "execution_count": 9,
   "metadata": {
    "colab": {},
    "colab_type": "code",
    "id": "1fG-FVHOvqPm"
   },
   "outputs": [],
   "source": [
    "#Imputing missing data.\n",
    "data.fillna(data.mean(), inplace=True)"
   ]
  },
  {
   "cell_type": "code",
   "execution_count": 10,
   "metadata": {
    "colab": {
     "base_uri": "https://localhost:8080/",
     "height": 223
    },
    "colab_type": "code",
    "id": "olm3p5Xg4Ep4",
    "outputId": "432800bf-7db2-425c-e312-84e3814f485a"
   },
   "outputs": [
    {
     "data": {
      "text/plain": [
       "2015-07-01    0\n",
       "2015-07-02    0\n",
       "2015-07-03    0\n",
       "2015-07-04    0\n",
       "2015-07-05    0\n",
       "             ..\n",
       "2016-12-27    0\n",
       "2016-12-28    0\n",
       "2016-12-29    0\n",
       "2016-12-30    0\n",
       "2016-12-31    0\n",
       "Length: 550, dtype: int64"
      ]
     },
     "execution_count": 10,
     "metadata": {},
     "output_type": "execute_result"
    }
   ],
   "source": [
    "#Checking to see imputation worked and no missing values anymore.\n",
    "data.isnull().sum()"
   ]
  },
  {
   "cell_type": "code",
   "execution_count": 11,
   "metadata": {
    "colab": {
     "base_uri": "https://localhost:8080/",
     "height": 417
    },
    "colab_type": "code",
    "id": "669J7DfPvwM3",
    "outputId": "1103fc2f-6dd1-4d40-eeb3-c25659d19ee1"
   },
   "outputs": [
    {
     "data": {
      "text/html": [
       "<div>\n",
       "<style scoped>\n",
       "    .dataframe tbody tr th:only-of-type {\n",
       "        vertical-align: middle;\n",
       "    }\n",
       "\n",
       "    .dataframe tbody tr th {\n",
       "        vertical-align: top;\n",
       "    }\n",
       "\n",
       "    .dataframe thead th {\n",
       "        text-align: right;\n",
       "    }\n",
       "</style>\n",
       "<table border=\"1\" class=\"dataframe\">\n",
       "  <thead>\n",
       "    <tr style=\"text-align: right;\">\n",
       "      <th></th>\n",
       "      <th>date</th>\n",
       "      <th>traffic</th>\n",
       "    </tr>\n",
       "  </thead>\n",
       "  <tbody>\n",
       "    <tr>\n",
       "      <th>0</th>\n",
       "      <td>2015-07-01</td>\n",
       "      <td>18.000000</td>\n",
       "    </tr>\n",
       "    <tr>\n",
       "      <th>1</th>\n",
       "      <td>2015-07-01</td>\n",
       "      <td>11.000000</td>\n",
       "    </tr>\n",
       "    <tr>\n",
       "      <th>2</th>\n",
       "      <td>2015-07-01</td>\n",
       "      <td>1.000000</td>\n",
       "    </tr>\n",
       "    <tr>\n",
       "      <th>3</th>\n",
       "      <td>2015-07-01</td>\n",
       "      <td>35.000000</td>\n",
       "    </tr>\n",
       "    <tr>\n",
       "      <th>4</th>\n",
       "      <td>2015-07-01</td>\n",
       "      <td>1195.856567</td>\n",
       "    </tr>\n",
       "    <tr>\n",
       "      <th>...</th>\n",
       "      <td>...</td>\n",
       "      <td>...</td>\n",
       "    </tr>\n",
       "    <tr>\n",
       "      <th>79784645</th>\n",
       "      <td>2016-12-31</td>\n",
       "      <td>10.000000</td>\n",
       "    </tr>\n",
       "    <tr>\n",
       "      <th>79784646</th>\n",
       "      <td>2016-12-31</td>\n",
       "      <td>1478.282137</td>\n",
       "    </tr>\n",
       "    <tr>\n",
       "      <th>79784647</th>\n",
       "      <td>2016-12-31</td>\n",
       "      <td>1478.282137</td>\n",
       "    </tr>\n",
       "    <tr>\n",
       "      <th>79784648</th>\n",
       "      <td>2016-12-31</td>\n",
       "      <td>1478.282137</td>\n",
       "    </tr>\n",
       "    <tr>\n",
       "      <th>79784649</th>\n",
       "      <td>2016-12-31</td>\n",
       "      <td>1478.282137</td>\n",
       "    </tr>\n",
       "  </tbody>\n",
       "</table>\n",
       "<p>79784650 rows × 2 columns</p>\n",
       "</div>"
      ],
      "text/plain": [
       "               date      traffic\n",
       "0        2015-07-01    18.000000\n",
       "1        2015-07-01    11.000000\n",
       "2        2015-07-01     1.000000\n",
       "3        2015-07-01    35.000000\n",
       "4        2015-07-01  1195.856567\n",
       "...             ...          ...\n",
       "79784645 2016-12-31    10.000000\n",
       "79784646 2016-12-31  1478.282137\n",
       "79784647 2016-12-31  1478.282137\n",
       "79784648 2016-12-31  1478.282137\n",
       "79784649 2016-12-31  1478.282137\n",
       "\n",
       "[79784650 rows x 2 columns]"
      ]
     },
     "execution_count": 11,
     "metadata": {},
     "output_type": "execute_result"
    }
   ],
   "source": [
    "#Need to unpivot DataFrame from wide to long format.\n",
    "data_melt = data.melt(var_name=\"date\", value_name=\"traffic\")\n",
    "\n",
    "data_melt['date'] = pd.to_datetime(data_melt['date'])\n",
    "\n",
    "data_melt"
   ]
  },
  {
   "cell_type": "code",
   "execution_count": 12,
   "metadata": {
    "colab": {
     "base_uri": "https://localhost:8080/",
     "height": 171
    },
    "colab_type": "code",
    "id": "nWkxuDMbv-yq",
    "outputId": "fdcbb8cd-3785-4f03-e3b9-2e2ab5847811"
   },
   "outputs": [
    {
     "name": "stdout",
     "output_type": "stream",
     "text": [
      "<class 'pandas.core.frame.DataFrame'>\n",
      "RangeIndex: 79784650 entries, 0 to 79784649\n",
      "Data columns (total 2 columns):\n",
      " #   Column   Dtype         \n",
      "---  ------   -----         \n",
      " 0   date     datetime64[ns]\n",
      " 1   traffic  float64       \n",
      "dtypes: datetime64[ns](1), float64(1)\n",
      "memory usage: 1.2 GB\n"
     ]
    }
   ],
   "source": [
    "data_melt.info()"
   ]
  },
  {
   "cell_type": "code",
   "execution_count": 13,
   "metadata": {
    "colab": {
     "base_uri": "https://localhost:8080/",
     "height": 417
    },
    "colab_type": "code",
    "id": "6BD_xqIawCrD",
    "outputId": "1897cf99-5d22-4f2d-d5c1-eecba95f937b"
   },
   "outputs": [
    {
     "data": {
      "text/html": [
       "<div>\n",
       "<style scoped>\n",
       "    .dataframe tbody tr th:only-of-type {\n",
       "        vertical-align: middle;\n",
       "    }\n",
       "\n",
       "    .dataframe tbody tr th {\n",
       "        vertical-align: top;\n",
       "    }\n",
       "\n",
       "    .dataframe thead th {\n",
       "        text-align: right;\n",
       "    }\n",
       "</style>\n",
       "<table border=\"1\" class=\"dataframe\">\n",
       "  <thead>\n",
       "    <tr style=\"text-align: right;\">\n",
       "      <th></th>\n",
       "      <th>date</th>\n",
       "      <th>traffic</th>\n",
       "    </tr>\n",
       "  </thead>\n",
       "  <tbody>\n",
       "    <tr>\n",
       "      <th>0</th>\n",
       "      <td>2015-07-01</td>\n",
       "      <td>1195.856567</td>\n",
       "    </tr>\n",
       "    <tr>\n",
       "      <th>1</th>\n",
       "      <td>2015-07-02</td>\n",
       "      <td>1204.003638</td>\n",
       "    </tr>\n",
       "    <tr>\n",
       "      <th>2</th>\n",
       "      <td>2015-07-03</td>\n",
       "      <td>1133.675969</td>\n",
       "    </tr>\n",
       "    <tr>\n",
       "      <th>3</th>\n",
       "      <td>2015-07-04</td>\n",
       "      <td>1170.437324</td>\n",
       "    </tr>\n",
       "    <tr>\n",
       "      <th>4</th>\n",
       "      <td>2015-07-05</td>\n",
       "      <td>1217.769300</td>\n",
       "    </tr>\n",
       "    <tr>\n",
       "      <th>...</th>\n",
       "      <td>...</td>\n",
       "      <td>...</td>\n",
       "    </tr>\n",
       "    <tr>\n",
       "      <th>545</th>\n",
       "      <td>2016-12-27</td>\n",
       "      <td>1678.301870</td>\n",
       "    </tr>\n",
       "    <tr>\n",
       "      <th>546</th>\n",
       "      <td>2016-12-28</td>\n",
       "      <td>1633.965605</td>\n",
       "    </tr>\n",
       "    <tr>\n",
       "      <th>547</th>\n",
       "      <td>2016-12-29</td>\n",
       "      <td>1684.307717</td>\n",
       "    </tr>\n",
       "    <tr>\n",
       "      <th>548</th>\n",
       "      <td>2016-12-30</td>\n",
       "      <td>1467.943378</td>\n",
       "    </tr>\n",
       "    <tr>\n",
       "      <th>549</th>\n",
       "      <td>2016-12-31</td>\n",
       "      <td>1478.282137</td>\n",
       "    </tr>\n",
       "  </tbody>\n",
       "</table>\n",
       "<p>550 rows × 2 columns</p>\n",
       "</div>"
      ],
      "text/plain": [
       "          date      traffic\n",
       "0   2015-07-01  1195.856567\n",
       "1   2015-07-02  1204.003638\n",
       "2   2015-07-03  1133.675969\n",
       "3   2015-07-04  1170.437324\n",
       "4   2015-07-05  1217.769300\n",
       "..         ...          ...\n",
       "545 2016-12-27  1678.301870\n",
       "546 2016-12-28  1633.965605\n",
       "547 2016-12-29  1684.307717\n",
       "548 2016-12-30  1467.943378\n",
       "549 2016-12-31  1478.282137\n",
       "\n",
       "[550 rows x 2 columns]"
      ]
     },
     "execution_count": 13,
     "metadata": {},
     "output_type": "execute_result"
    }
   ],
   "source": [
    "#Grouping similar dates and calculating mean of traffic for same dates.\n",
    "data_gr=data_melt.groupby(['date']).mean().reset_index()\n",
    "data_gr"
   ]
  },
  {
   "cell_type": "code",
   "execution_count": 14,
   "metadata": {
    "colab": {
     "base_uri": "https://localhost:8080/",
     "height": 223
    },
    "colab_type": "code",
    "id": "CT6EhcDswM5T",
    "outputId": "3da7592a-3575-4f53-e817-d63bbcd55ed9"
   },
   "outputs": [
    {
     "data": {
      "text/plain": [
       "0      07/01/2015\n",
       "1      07/02/2015\n",
       "2      07/03/2015\n",
       "3      07/04/2015\n",
       "4      07/05/2015\n",
       "          ...    \n",
       "545    12/27/2016\n",
       "546    12/28/2016\n",
       "547    12/29/2016\n",
       "548    12/30/2016\n",
       "549    12/31/2016\n",
       "Name: date, Length: 550, dtype: object"
      ]
     },
     "execution_count": 14,
     "metadata": {},
     "output_type": "execute_result"
    }
   ],
   "source": [
    "#Changing date format to MM/DD/YYYY.\n",
    "data_gr['date'] = data_gr['date'].dt.strftime('%m/%d/%Y')\n",
    "\n",
    "data_gr['date']"
   ]
  },
  {
   "cell_type": "code",
   "execution_count": 15,
   "metadata": {
    "colab": {
     "base_uri": "https://localhost:8080/",
     "height": 417
    },
    "colab_type": "code",
    "id": "cnOZ_5aLwTA-",
    "outputId": "91c06872-5f7f-4c74-a0f4-5840cfc2fac5"
   },
   "outputs": [
    {
     "data": {
      "text/html": [
       "<div>\n",
       "<style scoped>\n",
       "    .dataframe tbody tr th:only-of-type {\n",
       "        vertical-align: middle;\n",
       "    }\n",
       "\n",
       "    .dataframe tbody tr th {\n",
       "        vertical-align: top;\n",
       "    }\n",
       "\n",
       "    .dataframe thead th {\n",
       "        text-align: right;\n",
       "    }\n",
       "</style>\n",
       "<table border=\"1\" class=\"dataframe\">\n",
       "  <thead>\n",
       "    <tr style=\"text-align: right;\">\n",
       "      <th></th>\n",
       "      <th>date</th>\n",
       "      <th>traffic</th>\n",
       "    </tr>\n",
       "  </thead>\n",
       "  <tbody>\n",
       "    <tr>\n",
       "      <th>0</th>\n",
       "      <td>07/01/2015</td>\n",
       "      <td>1195.856567</td>\n",
       "    </tr>\n",
       "    <tr>\n",
       "      <th>1</th>\n",
       "      <td>07/02/2015</td>\n",
       "      <td>1204.003638</td>\n",
       "    </tr>\n",
       "    <tr>\n",
       "      <th>2</th>\n",
       "      <td>07/03/2015</td>\n",
       "      <td>1133.675969</td>\n",
       "    </tr>\n",
       "    <tr>\n",
       "      <th>3</th>\n",
       "      <td>07/04/2015</td>\n",
       "      <td>1170.437324</td>\n",
       "    </tr>\n",
       "    <tr>\n",
       "      <th>4</th>\n",
       "      <td>07/05/2015</td>\n",
       "      <td>1217.769300</td>\n",
       "    </tr>\n",
       "    <tr>\n",
       "      <th>...</th>\n",
       "      <td>...</td>\n",
       "      <td>...</td>\n",
       "    </tr>\n",
       "    <tr>\n",
       "      <th>545</th>\n",
       "      <td>12/27/2016</td>\n",
       "      <td>1678.301870</td>\n",
       "    </tr>\n",
       "    <tr>\n",
       "      <th>546</th>\n",
       "      <td>12/28/2016</td>\n",
       "      <td>1633.965605</td>\n",
       "    </tr>\n",
       "    <tr>\n",
       "      <th>547</th>\n",
       "      <td>12/29/2016</td>\n",
       "      <td>1684.307717</td>\n",
       "    </tr>\n",
       "    <tr>\n",
       "      <th>548</th>\n",
       "      <td>12/30/2016</td>\n",
       "      <td>1467.943378</td>\n",
       "    </tr>\n",
       "    <tr>\n",
       "      <th>549</th>\n",
       "      <td>12/31/2016</td>\n",
       "      <td>1478.282137</td>\n",
       "    </tr>\n",
       "  </tbody>\n",
       "</table>\n",
       "<p>550 rows × 2 columns</p>\n",
       "</div>"
      ],
      "text/plain": [
       "           date      traffic\n",
       "0    07/01/2015  1195.856567\n",
       "1    07/02/2015  1204.003638\n",
       "2    07/03/2015  1133.675969\n",
       "3    07/04/2015  1170.437324\n",
       "4    07/05/2015  1217.769300\n",
       "..          ...          ...\n",
       "545  12/27/2016  1678.301870\n",
       "546  12/28/2016  1633.965605\n",
       "547  12/29/2016  1684.307717\n",
       "548  12/30/2016  1467.943378\n",
       "549  12/31/2016  1478.282137\n",
       "\n",
       "[550 rows x 2 columns]"
      ]
     },
     "execution_count": 15,
     "metadata": {},
     "output_type": "execute_result"
    }
   ],
   "source": [
    "data_gr"
   ]
  },
  {
   "cell_type": "markdown",
   "metadata": {
    "colab_type": "text",
    "id": "HzK6ksGawd53"
   },
   "source": [
    "As seen from above new dataframe, the original dataframe was massaged into a format where the time columns, which are considered measured variables (value_vars), are “unpivoted” to the row axis.\n",
    "\n",
    "Then the data was grouped by the date, and the mean of traffic for that day was calculated.\n",
    "\n",
    "The final dataframe shows the mean observations calculated every day from 07/01/105 to 12/31/2016.\n",
    "\n",
    "To make a prediction, the 550 observations will be split into two halves.  Thus, a window containing the last 225 observations will be created to train the model."
   ]
  },
  {
   "cell_type": "markdown",
   "metadata": {
    "colab_type": "text",
    "id": "-eMRWKRjFy9Y"
   },
   "source": [
    "## ***Visualization of Dataset***"
   ]
  },
  {
   "cell_type": "code",
   "execution_count": 16,
   "metadata": {
    "colab": {
     "base_uri": "https://localhost:8080/",
     "height": 137
    },
    "colab_type": "code",
    "id": "vKiwfUxfwX04",
    "outputId": "827973d7-6538-4a08-839c-14c6fc06b33e"
   },
   "outputs": [
    {
     "data": {
      "text/plain": [
       "date\n",
       "07/01/2015    1195.856567\n",
       "07/02/2015    1204.003638\n",
       "07/03/2015    1133.675969\n",
       "07/04/2015    1170.437324\n",
       "07/05/2015    1217.769300\n",
       "Name: traffic, dtype: float64"
      ]
     },
     "execution_count": 16,
     "metadata": {},
     "output_type": "execute_result"
    }
   ],
   "source": [
    "uni_data = data_gr['traffic']\n",
    "uni_data.index = data_gr['date']\n",
    "uni_data.head()"
   ]
  },
  {
   "cell_type": "code",
   "execution_count": 17,
   "metadata": {
    "colab": {
     "base_uri": "https://localhost:8080/",
     "height": 367
    },
    "colab_type": "code",
    "id": "Prcr1iTKwrMK",
    "outputId": "8710631f-1478-42eb-8932-30dac7384124"
   },
   "outputs": [
    {
     "data": {
      "text/plain": [
       "Text(0.5, 1.0, 'Time Series Plot of Wikipedia Web Traffic')"
      ]
     },
     "execution_count": 17,
     "metadata": {},
     "output_type": "execute_result"
    },
    {
     "data": {
      "image/png": "[encoded data removed]",
      "text/plain": [
       "<Figure size 1080x360 with 1 Axes>"
      ]
     },
     "metadata": {
      "needs_background": "light"
     },
     "output_type": "display_data"
    }
   ],
   "source": [
    "#Plot of date and traffic\n",
    "plt.figure(figsize = (15,5))\n",
    "uni_data.plot(subplots=True)\n",
    "\n",
    "plt.xlabel('Date',fontsize=10)\n",
    "plt.ylabel('Traffic',fontsize=10)\n",
    "plt.title('Time Series Plot of Wikipedia Web Traffic')"
   ]
  },
  {
   "cell_type": "markdown",
   "metadata": {
    "colab_type": "text",
    "id": "gih2oTbWxJ1m"
   },
   "source": [
    "## ***Experimental Test Setup***"
   ]
  },
  {
   "cell_type": "markdown",
   "metadata": {
    "colab_type": "text",
    "id": "CuXL61hLxStH"
   },
   "source": [
    "The Wikipedia Web Traffic dataset will be split into two parts: a training and test set.\n",
    "\n",
    "The first half of data will be taken for the training dataset and the remaining half of data will be used for the test set."
   ]
  },
  {
   "cell_type": "code",
   "execution_count": 18,
   "metadata": {
    "colab": {
     "base_uri": "https://localhost:8080/",
     "height": 994
    },
    "colab_type": "code",
    "id": "G_Ad-50QwyiM",
    "outputId": "e7d685ce-53d2-4a01-9048-bcf1b4498485"
   },
   "outputs": [
    {
     "data": {
      "text/plain": [
       "array([1308.05112369, 1375.35299998, 1426.10235064, 1345.09909864,\n",
       "       1318.30568231, 1297.11307049, 1240.61576525, 1265.12319851,\n",
       "       1355.32925431, 1376.69341327, 1316.4807073 , 1303.45276201,\n",
       "       1288.98615611, 1245.08205748, 1348.81607314, 1443.84522433,\n",
       "       1440.1256736 , 1364.22921822, 1359.40528193, 1330.78795373,\n",
       "       1332.29340884, 1380.89515035, 1533.95644441, 1535.94154621,\n",
       "       1485.85114365, 1393.55072559, 1360.87528394, 1297.504973  ,\n",
       "       1267.9904152 , 1413.68564137, 1501.62115936, 1366.85713869,\n",
       "       1393.89496488, 1309.84735137, 1345.6398335 , 1307.35641186,\n",
       "       1412.25217588, 1465.60274312, 1374.82046702, 1310.85177499,\n",
       "       1350.30884079, 1290.3354068 , 1330.94281014, 1373.35732644,\n",
       "       1367.90789896, 1375.26911112, 1489.49466999, 1371.4892369 ,\n",
       "       1245.66383454, 1263.44934753, 1482.80409832, 1487.30583153,\n",
       "       1347.26143791, 1310.5744721 , 1278.04110394, 1246.84065978,\n",
       "       1249.39410526, 1335.4350427 , 1360.02195725, 1343.03920871,\n",
       "       1561.1767221 , 1820.84439893, 1990.60651874, 1970.8234621 ,\n",
       "       2150.46557913, 2233.68554212, 2230.95918131, 2182.90734847,\n",
       "       2152.18116388, 2081.78014328, 1994.86434891, 2152.13286298,\n",
       "       2200.68690959, 2146.36725103, 1969.97869386, 1853.28514036,\n",
       "       1848.54264306, 1913.54352319, 1986.48513351, 2169.87241649,\n",
       "       2115.80562107, 2206.60054973, 2145.72902979, 2172.22702562,\n",
       "       2099.25386274, 2199.2674912 , 2289.9326195 , 2088.98784419,\n",
       "       1434.55681621, 1420.75815747, 1388.52191129, 1381.48173061,\n",
       "       1533.65343546, 1486.04535443, 1449.10402508, 1390.62717562,\n",
       "       1356.3135277 , 1305.53391709, 1335.40278986, 1496.3551707 ,\n",
       "       1611.98522738, 1671.29007749, 1662.61758484, 1651.57033063,\n",
       "       1646.02334871, 1672.25063491, 1779.60306172, 1649.86736323,\n",
       "       1566.42841671, 1456.72762194, 1363.36102168, 1313.27443401,\n",
       "       1372.53611235, 1497.23607387, 1451.29176736, 1487.46946292,\n",
       "       1459.73692128, 1454.57560435, 1302.73722706, 1335.65840869,\n",
       "       1466.78505558, 1531.06971176, 1398.2537462 , 1426.37777045,\n",
       "       1412.07900485, 1358.13959285, 1314.13212793, 1443.17431653,\n",
       "       1475.67863687, 1472.01413881, 1438.97672518, 1398.00212036,\n",
       "       1318.26797151, 1373.76130474, 1484.87792156, 1562.68535906,\n",
       "       1505.52071756, 1593.3539673 , 1595.48154861, 1325.24966684,\n",
       "       1390.36936153, 1535.28206688, 1542.82599741, 1403.727102  ,\n",
       "       1408.73683158, 1421.95562438, 1364.80063664, 1389.00101181,\n",
       "       1546.70350733, 1522.86764884, 1452.81268143, 1440.84727649,\n",
       "       1441.90058037, 1364.25210797, 1342.53161867, 1469.25410719,\n",
       "       1511.28867925, 1443.9307841 , 1381.14344856, 1379.63073862,\n",
       "       1296.87867364, 1295.87592346, 1427.41830429, 1459.82860626,\n",
       "       1414.45196118, 1429.81187408, 1464.34848851, 1393.48370347,\n",
       "       1428.68585505, 1571.92523338, 1561.03844978, 1591.31474234,\n",
       "       2156.05480859, 1730.76383288, 1620.33560966, 1536.47175653,\n",
       "       1679.63058931, 1701.94183062, 1564.17222839, 1520.67395867,\n",
       "       1463.75193666, 1396.54414535, 1399.1704118 , 1482.0187392 ,\n",
       "       1529.84458489, 1526.72394436, 1444.04389824, 1373.81463827,\n",
       "       1326.70910719, 1472.10722375, 1583.90313338, 1460.71908225,\n",
       "       1533.142157  , 1400.35571666, 1389.00719134, 1349.26677319,\n",
       "       1440.03653068, 1525.51159668, 1513.75852789, 1495.34191969,\n",
       "       1444.83066422, 1416.28916166, 1369.50114278, 1360.45121537,\n",
       "       1439.70342517, 1457.87765412, 1393.21735652, 1456.49566174,\n",
       "       1338.35625067, 1265.57184958, 1280.52359651, 1474.68220684,\n",
       "       1561.78993148, 1501.70135759, 1418.0630698 , 1394.09550315,\n",
       "       1377.48171813, 1393.09920775, 1523.73992174, 1679.60655354,\n",
       "       1678.30187038, 1633.96560489, 1684.30771682, 1467.94337755,\n",
       "       1478.28213675])"
      ]
     },
     "execution_count": 18,
     "metadata": {},
     "output_type": "execute_result"
    }
   ],
   "source": [
    "#Split data into train and test\n",
    "X = uni_data.values\n",
    "train, test = X[0:-225], X[-225:]\n",
    "\n",
    "test"
   ]
  },
  {
   "cell_type": "markdown",
   "metadata": {
    "colab_type": "text",
    "id": "j6ajwXqHyr-l"
   },
   "source": [
    "Models will be developed using the training dataset and will make predictions on the test dataset.\n",
    "\n",
    "A rolling forecast scenario will be used, also called walk-forward model validation.\n",
    "\n",
    "Each time step of the test dataset will be walked one at a time. A model will be used to make a forecast for the time step, then the actual expected value from the test set will be taken and made available to the model for the forecast on the next time step.\n",
    "\n"
   ]
  },
  {
   "cell_type": "code",
   "execution_count": 19,
   "metadata": {
    "colab": {},
    "colab_type": "code",
    "id": "HdzWkBfKxX_j"
   },
   "outputs": [],
   "source": [
    "#Walk-forward validation\n",
    "history = [x for x in train]\n",
    "predictions = list()\n",
    "for i in range(len(test)):\n",
    "    # make prediction\n",
    "    predictions.append(history[-1])\n",
    "    # observation\n",
    "    history.append(test[i])"
   ]
  },
  {
   "cell_type": "markdown",
   "metadata": {
    "colab_type": "text",
    "id": "kR_WKx0fy7xO"
   },
   "source": [
    "Finally, all forecasts on the test dataset will be collected and an error score calculated to summarize the skill of the model. The root mean squared error (RMSE) will be used as it punishes large errors and results in a score that is in the same units as the forecast data."
   ]
  },
  {
   "cell_type": "code",
   "execution_count": 20,
   "metadata": {
    "colab": {
     "base_uri": "https://localhost:8080/",
     "height": 34
    },
    "colab_type": "code",
    "id": "utAJWUiby2TO",
    "outputId": "58f6645a-3d8f-4022-a51f-45df2c1f4d31"
   },
   "outputs": [
    {
     "name": "stdout",
     "output_type": "stream",
     "text": [
      "RMSE: 106.398\n"
     ]
    }
   ],
   "source": [
    "from sklearn.metrics import mean_squared_error\n",
    "from math import sqrt\n",
    "\n",
    "rmse = sqrt(mean_squared_error(test, predictions))\n",
    "print('RMSE: %.3f' % rmse)"
   ]
  },
  {
   "cell_type": "markdown",
   "metadata": {
    "colab_type": "text",
    "id": "hy_PmgOizIVn"
   },
   "source": [
    "## ***Persistence Model Forecast***"
   ]
  },
  {
   "cell_type": "markdown",
   "metadata": {
    "colab_type": "text",
    "id": "eD1sEA2zzVXW"
   },
   "source": [
    "A good baseline forecast for a time series with a linear increasing trend is a persistence forecast.\n",
    "\n",
    "The persistence forecast is where the observation from the prior time step (t-1) is used to predict the observation at the current time step (t).\n",
    "\n",
    "We can implement this by taking the last observation from the training data and history accumulated by walk-forward validation and using that to predict the current time step."
   ]
  },
  {
   "cell_type": "code",
   "execution_count": 21,
   "metadata": {
    "colab": {
     "base_uri": "https://localhost:8080/",
     "height": 336
    },
    "colab_type": "code",
    "id": "S_GgM4zbzDDG",
    "outputId": "a0705d4f-e08e-4fad-ae4e-3d1d0922c3de"
   },
   "outputs": [
    {
     "data": {
      "image/png": "[encoded data removed]",
      "text/plain": [
       "<Figure size 1080x360 with 1 Axes>"
      ]
     },
     "metadata": {
      "needs_background": "light"
     },
     "output_type": "display_data"
    }
   ],
   "source": [
    "# Plot of observed vs predicted\n",
    "plt.figure(figsize = (15,5))\n",
    "\n",
    "plt.plot(test, label='Test')\n",
    "plt.plot(predictions,label='Predictions')\n",
    "\n",
    "plt.legend()\n",
    "plt.title('Persistence Forecast of Observed vs Predicted for Wikipedia Web Traffic')\n",
    "plt.show()"
   ]
  },
  {
   "cell_type": "markdown",
   "metadata": {
    "colab_type": "text",
    "id": "7hpxwUL8zfy3"
   },
   "source": [
    "Now that we have a baseline of performance on the dataset, we can get started developing an LSTM model for the data."
   ]
  },
  {
   "cell_type": "code",
   "execution_count": 22,
   "metadata": {
    "colab": {
     "base_uri": "https://localhost:8080/",
     "height": 34
    },
    "colab_type": "code",
    "id": "F7H5Gl9_tFjj",
    "outputId": "8290500a-2d8c-4e06-e241-d7c207bbaa1a"
   },
   "outputs": [
    {
     "data": {
      "text/plain": [
       "1478.282136753525"
      ]
     },
     "execution_count": 22,
     "metadata": {},
     "output_type": "execute_result"
    }
   ],
   "source": [
    "# make prediction\n",
    "yhat = history[-1]\n",
    "yhat"
   ]
  },
  {
   "cell_type": "markdown",
   "metadata": {
    "colab_type": "text",
    "id": "lsh4mjgWznHZ"
   },
   "source": [
    "## ***LSTM Data Preparation***"
   ]
  },
  {
   "cell_type": "markdown",
   "metadata": {
    "colab_type": "text",
    "id": "Se2gbGnZzzXz"
   },
   "source": [
    "The code below defines a helper function to do execute timeseries_to_supervised(). It takes a NumPy array of the time series data and a lag, or number of shifted series, to create and use as inputs."
   ]
  },
  {
   "cell_type": "code",
   "execution_count": 23,
   "metadata": {
    "colab": {},
    "colab_type": "code",
    "id": "VgIOLGnEzjjL"
   },
   "outputs": [],
   "source": [
    "# frame a sequence as a supervised learning problem\n",
    "def timeseries_to_supervised(data, lag=1):\n",
    "    df = DataFrame(data)\n",
    "    columns = [df.shift(i) for i in range(1, lag+1)]\n",
    "    columns.append(df)\n",
    "    df = concat(columns, axis=1)\n",
    "    df.fillna(0, inplace=True)\n",
    "    return df"
   ]
  },
  {
   "cell_type": "code",
   "execution_count": 24,
   "metadata": {
    "colab": {
     "base_uri": "https://localhost:8080/",
     "height": 120
    },
    "colab_type": "code",
    "id": "8sKubKR21V8n",
    "outputId": "2ddad8e6-ef67-4d05-fb50-26fefb2dfe49"
   },
   "outputs": [
    {
     "name": "stdout",
     "output_type": "stream",
     "text": [
      "             0            0\n",
      "0     0.000000  1195.856567\n",
      "1  1195.856567  1204.003638\n",
      "2  1204.003638  1133.675969\n",
      "3  1133.675969  1170.437324\n",
      "4  1170.437324  1217.769300\n"
     ]
    }
   ],
   "source": [
    "# transform to supervised learning\n",
    "X = uni_data.values\n",
    "supervised = timeseries_to_supervised(X, 1)\n",
    "print(supervised.head())"
   ]
  },
  {
   "cell_type": "markdown",
   "metadata": {
    "colab_type": "text",
    "id": "EHfzml6q1fVs"
   },
   "source": [
    "## ***Transform Time Series to Stationary***"
   ]
  },
  {
   "cell_type": "markdown",
   "metadata": {
    "colab_type": "text",
    "id": "r1N9Q9zA1ws2"
   },
   "source": [
    "This means that there is a structure in the data that is dependent on the time. Specifically, there is an increasing trend in the data.\n",
    "\n",
    "Stationary data is easier to model and will very likely result in more skillful forecasts.\n",
    "\n",
    "The trend can be removed from the observations, then added back to forecasts later to return the prediction to the original scale and calculate a comparable error score.\n",
    "\n",
    "A standard way to remove a trend is by differencing the data. That is the observation from the previous time step (t-1) is subtracted from the current observation (t). This removes the trend and we are left with a difference series, or the changes to the observations from one time step to the next.\n",
    "\n",
    "We can achieve this automatically using the diff() function in pandas."
   ]
  },
  {
   "cell_type": "code",
   "execution_count": 25,
   "metadata": {
    "colab": {},
    "colab_type": "code",
    "id": "J170wcKz0bGi"
   },
   "outputs": [],
   "source": [
    "# create a differenced series\n",
    "def difference(dataset, interval=1):\n",
    "    diff = list()\n",
    "    for i in range(interval, len(dataset)):\n",
    "        value = dataset[i] - dataset[i - interval]\n",
    "        diff.append(value)\n",
    "    return Series(diff)"
   ]
  },
  {
   "cell_type": "code",
   "execution_count": 26,
   "metadata": {
    "colab": {},
    "colab_type": "code",
    "id": "pwdt-zC618hW"
   },
   "outputs": [],
   "source": [
    "# invert differenced value\n",
    "def inverse_difference(history, yhat, interval=1):\n",
    "    return yhat + history[-interval]"
   ]
  },
  {
   "cell_type": "markdown",
   "metadata": {
    "colab_type": "text",
    "id": "3utmYipj2GQe"
   },
   "source": [
    "## ***Standardization***"
   ]
  },
  {
   "cell_type": "markdown",
   "metadata": {
    "colab_type": "text",
    "id": "QpXVmTN-2YKT"
   },
   "source": [
    "Like other neural networks, LSTM's expect data to be within the scale of the activation function used by the network.\n",
    "\n",
    "The default activation function for LSTMs is the hyperbolic tangent (tanh), which outputs values between -1 and 1. This is the preferred range for the time series data.\n",
    "\n",
    "To make the experiment fair, the scaling coefficients (min and max) values must be calculated on the training dataset and applied to scale the test dataset and any forecasts. This is to avoid contaminating the experiment with knowledge from the test dataset, which might give the model a small edge.\n",
    "\n",
    "We can transform the dataset to the range [-1, 1] using the MinMaxScaler class. Like other scikit-learn transform classes, it requires data provided in a matrix format with rows and columns. Therefore, we must reshape our NumPy arrays before transforming."
   ]
  },
  {
   "cell_type": "code",
   "execution_count": 27,
   "metadata": {
    "colab": {},
    "colab_type": "code",
    "id": "7OqbkB-c2Gpi"
   },
   "outputs": [],
   "source": [
    "# scale train and test data to [-1, 1]\n",
    "def scale(train, test):\n",
    "    # fit scaler\n",
    "    scaler = MinMaxScaler(feature_range=(-1, 1))\n",
    "    scaler = scaler.fit(train)\n",
    "    # transform train\n",
    "    train = train.reshape(train.shape[0], train.shape[1])\n",
    "    train_scaled = scaler.transform(train)\n",
    "    # transform test\n",
    "    test = test.reshape(test.shape[0], test.shape[1])\n",
    "    test_scaled = scaler.transform(test)\n",
    "    return scaler, train_scaled, test_scaled"
   ]
  },
  {
   "cell_type": "code",
   "execution_count": 28,
   "metadata": {
    "colab": {},
    "colab_type": "code",
    "id": "CK1LpCf62vxK"
   },
   "outputs": [],
   "source": [
    "# inverse scaling for a forecasted value\n",
    "def invert_scale(scaler, X, value):\n",
    "    new_row = [x for x in X] + [value]\n",
    "    array = np.array(new_row)\n",
    "    array = array.reshape(1, len(array))\n",
    "    inverted = scaler.inverse_transform(array)\n",
    "    return inverted[0, -1]"
   ]
  },
  {
   "cell_type": "markdown",
   "metadata": {
    "colab_type": "text",
    "id": "zxq0rN5Kz1DQ"
   },
   "source": [
    "## ***Fitting Model***"
   ]
  },
  {
   "cell_type": "markdown",
   "metadata": {
    "colab_type": "text",
    "id": "0tApHKGhp4Z7"
   },
   "source": [
    "Below, TensorFlow/Keras was used to create a neural network model."
   ]
  },
  {
   "cell_type": "code",
   "execution_count": 29,
   "metadata": {
    "colab": {},
    "colab_type": "code",
    "id": "PgO8PRl833WF"
   },
   "outputs": [],
   "source": [
    "# fit an LSTM network to training data\n",
    "def fit_lstm(train, batch_size, nb_epoch, neurons):\n",
    "    X, y = train[:, 0:-1], train[:, -1]\n",
    "    X = X.reshape(X.shape[0], 1, X.shape[1])\n",
    "    model = Sequential()\n",
    "    model.add(LSTM(neurons, batch_input_shape=(batch_size, X.shape[1], X.shape[2]), stateful=True))\n",
    "    model.add(Dense(1))\n",
    "    model.compile(loss='mean_squared_error', optimizer='adam', metrics=['accuracy'])\n",
    "    for i in range(nb_epoch):\n",
    "        model.fit(X, y, epochs=1, batch_size=batch_size, verbose=2, shuffle=False)\t\n",
    "        model.reset_states()\n",
    "    return model              \n"
   ]
  },
  {
   "cell_type": "code",
   "execution_count": 30,
   "metadata": {
    "colab": {},
    "colab_type": "code",
    "id": "uWONww1_4JQT"
   },
   "outputs": [],
   "source": [
    "# make a one-step forecast\n",
    "def forecast_lstm(model, batch_size, X):\n",
    "    X = X.reshape(1, 1, len(X))\n",
    "    yhat = model.predict(X, batch_size=batch_size)\n",
    "    return yhat[0,0]"
   ]
  },
  {
   "cell_type": "code",
   "execution_count": 31,
   "metadata": {
    "colab": {},
    "colab_type": "code",
    "id": "WApPFwEc4ZO9"
   },
   "outputs": [],
   "source": [
    "# transform data to be stationary\n",
    "raw_values = uni_data.values\n",
    "diff_values = difference(raw_values, 1)"
   ]
  },
  {
   "cell_type": "code",
   "execution_count": 32,
   "metadata": {
    "colab": {
     "base_uri": "https://localhost:8080/",
     "height": 223
    },
    "colab_type": "code",
    "id": "WBz0mawL4vhl",
    "outputId": "42cd68b6-933b-4ec8-df5d-65d36ba405d1"
   },
   "outputs": [
    {
     "data": {
      "text/plain": [
       "0        8.147071\n",
       "1      -70.327669\n",
       "2       36.761355\n",
       "3       47.331976\n",
       "4       72.503890\n",
       "          ...    \n",
       "544     -1.304683\n",
       "545    -44.336265\n",
       "546     50.342112\n",
       "547   -216.364339\n",
       "548     10.338759\n",
       "Length: 549, dtype: float64"
      ]
     },
     "execution_count": 32,
     "metadata": {},
     "output_type": "execute_result"
    }
   ],
   "source": [
    "diff_values"
   ]
  },
  {
   "cell_type": "code",
   "execution_count": 33,
   "metadata": {
    "colab": {},
    "colab_type": "code",
    "id": "cHQF-drf4zXN"
   },
   "outputs": [],
   "source": [
    "# transform data to be supervised learning\n",
    "supervised = timeseries_to_supervised(diff_values, 1)\n",
    "supervised_values = supervised.values"
   ]
  },
  {
   "cell_type": "code",
   "execution_count": 34,
   "metadata": {
    "colab": {},
    "colab_type": "code",
    "id": "I7CIQZvA46KB"
   },
   "outputs": [],
   "source": [
    "# split data into train and test-sets\n",
    "train, test = supervised_values[0:-225], supervised_values[-225:]"
   ]
  },
  {
   "cell_type": "code",
   "execution_count": 35,
   "metadata": {
    "colab": {},
    "colab_type": "code",
    "id": "Yq-IGf4g5TZY"
   },
   "outputs": [],
   "source": [
    "# transform the scale of the data\n",
    "scaler, train_scaled, test_scaled = scale(train, test)"
   ]
  },
  {
   "cell_type": "code",
   "execution_count": 36,
   "metadata": {
    "colab": {
     "base_uri": "https://localhost:8080/",
     "height": 1000
    },
    "colab_type": "code",
    "id": "Dc8X2oQo5ldW",
    "outputId": "39dc816c-562c-48c6-e59c-76b9fd55fa9a"
   },
   "outputs": [
    {
     "name": "stdout",
     "output_type": "stream",
     "text": [
      "324/324 - 0s - loss: 0.0378 - accuracy: 0.0000e+00\n",
      "324/324 - 0s - loss: 0.0370 - accuracy: 0.0000e+00\n",
      "324/324 - 0s - loss: 0.0370 - accuracy: 0.0000e+00\n",
      "324/324 - 0s - loss: 0.0363 - accuracy: 0.0000e+00\n",
      "324/324 - 0s - loss: 0.0358 - accuracy: 0.0000e+00\n",
      "324/324 - 0s - loss: 0.0353 - accuracy: 0.0000e+00\n",
      "324/324 - 0s - loss: 0.0349 - accuracy: 0.0000e+00\n",
      "324/324 - 0s - loss: 0.0345 - accuracy: 0.0000e+00\n",
      "324/324 - 0s - loss: 0.0341 - accuracy: 0.0000e+00\n",
      "324/324 - 0s - loss: 0.0338 - accuracy: 0.0000e+00\n",
      "324/324 - 0s - loss: 0.0335 - accuracy: 0.0000e+00\n",
      "324/324 - 0s - loss: 0.0332 - accuracy: 0.0000e+00\n",
      "324/324 - 0s - loss: 0.0330 - accuracy: 0.0000e+00\n",
      "324/324 - 0s - loss: 0.0327 - accuracy: 0.0000e+00\n",
      "324/324 - 0s - loss: 0.0325 - accuracy: 0.0000e+00\n",
      "324/324 - 0s - loss: 0.0323 - accuracy: 0.0000e+00\n",
      "324/324 - 0s - loss: 0.0321 - accuracy: 0.0000e+00\n",
      "324/324 - 0s - loss: 0.0320 - accuracy: 0.0000e+00\n",
      "324/324 - 0s - loss: 0.0318 - accuracy: 0.0000e+00\n",
      "324/324 - 0s - loss: 0.0317 - accuracy: 0.0000e+00\n",
      "324/324 - 0s - loss: 0.0316 - accuracy: 0.0000e+00\n",
      "324/324 - 0s - loss: 0.0315 - accuracy: 0.0000e+00\n",
      "324/324 - 0s - loss: 0.0314 - accuracy: 0.0000e+00\n",
      "324/324 - 0s - loss: 0.0313 - accuracy: 0.0000e+00\n",
      "324/324 - 0s - loss: 0.0312 - accuracy: 0.0000e+00\n",
      "324/324 - 0s - loss: 0.0311 - accuracy: 0.0000e+00\n",
      "324/324 - 0s - loss: 0.0310 - accuracy: 0.0000e+00\n",
      "324/324 - 0s - loss: 0.0309 - accuracy: 0.0000e+00\n",
      "324/324 - 0s - loss: 0.0308 - accuracy: 0.0000e+00\n",
      "324/324 - 0s - loss: 0.0307 - accuracy: 0.0000e+00\n",
      "324/324 - 0s - loss: 0.0306 - accuracy: 0.0000e+00\n",
      "324/324 - 0s - loss: 0.0305 - accuracy: 0.0000e+00\n",
      "324/324 - 0s - loss: 0.0303 - accuracy: 0.0000e+00\n",
      "324/324 - 0s - loss: 0.0302 - accuracy: 0.0000e+00\n",
      "324/324 - 0s - loss: 0.0301 - accuracy: 0.0000e+00\n",
      "324/324 - 0s - loss: 0.0300 - accuracy: 0.0000e+00\n",
      "324/324 - 0s - loss: 0.0299 - accuracy: 0.0000e+00\n",
      "324/324 - 0s - loss: 0.0298 - accuracy: 0.0000e+00\n",
      "324/324 - 0s - loss: 0.0297 - accuracy: 0.0000e+00\n",
      "324/324 - 0s - loss: 0.0296 - accuracy: 0.0000e+00\n",
      "324/324 - 0s - loss: 0.0295 - accuracy: 0.0000e+00\n",
      "324/324 - 0s - loss: 0.0294 - accuracy: 0.0000e+00\n",
      "324/324 - 0s - loss: 0.0293 - accuracy: 0.0000e+00\n",
      "324/324 - 0s - loss: 0.0292 - accuracy: 0.0000e+00\n",
      "324/324 - 0s - loss: 0.0291 - accuracy: 0.0000e+00\n",
      "324/324 - 0s - loss: 0.0291 - accuracy: 0.0000e+00\n",
      "324/324 - 0s - loss: 0.0290 - accuracy: 0.0000e+00\n",
      "324/324 - 0s - loss: 0.0289 - accuracy: 0.0000e+00\n",
      "324/324 - 0s - loss: 0.0288 - accuracy: 0.0000e+00\n",
      "324/324 - 0s - loss: 0.0288 - accuracy: 0.0000e+00\n",
      "324/324 - 0s - loss: 0.0287 - accuracy: 0.0000e+00\n",
      "324/324 - 0s - loss: 0.0287 - accuracy: 0.0000e+00\n",
      "324/324 - 0s - loss: 0.0286 - accuracy: 0.0000e+00\n",
      "324/324 - 0s - loss: 0.0286 - accuracy: 0.0000e+00\n",
      "324/324 - 0s - loss: 0.0285 - accuracy: 0.0000e+00\n",
      "324/324 - 0s - loss: 0.0285 - accuracy: 0.0000e+00\n",
      "324/324 - 0s - loss: 0.0284 - accuracy: 0.0000e+00\n",
      "324/324 - 0s - loss: 0.0284 - accuracy: 0.0000e+00\n",
      "324/324 - 0s - loss: 0.0284 - accuracy: 0.0000e+00\n",
      "324/324 - 0s - loss: 0.0283 - accuracy: 0.0000e+00\n",
      "324/324 - 0s - loss: 0.0283 - accuracy: 0.0000e+00\n",
      "324/324 - 0s - loss: 0.0283 - accuracy: 0.0000e+00\n",
      "324/324 - 0s - loss: 0.0283 - accuracy: 0.0000e+00\n",
      "324/324 - 0s - loss: 0.0282 - accuracy: 0.0000e+00\n",
      "324/324 - 0s - loss: 0.0282 - accuracy: 0.0000e+00\n",
      "324/324 - 0s - loss: 0.0282 - accuracy: 0.0000e+00\n",
      "324/324 - 0s - loss: 0.0282 - accuracy: 0.0000e+00\n",
      "324/324 - 0s - loss: 0.0281 - accuracy: 0.0000e+00\n",
      "324/324 - 0s - loss: 0.0281 - accuracy: 0.0000e+00\n",
      "324/324 - 0s - loss: 0.0281 - accuracy: 0.0000e+00\n",
      "324/324 - 0s - loss: 0.0281 - accuracy: 0.0000e+00\n",
      "324/324 - 0s - loss: 0.0281 - accuracy: 0.0000e+00\n",
      "324/324 - 0s - loss: 0.0280 - accuracy: 0.0000e+00\n",
      "324/324 - 0s - loss: 0.0280 - accuracy: 0.0000e+00\n",
      "324/324 - 0s - loss: 0.0280 - accuracy: 0.0000e+00\n",
      "324/324 - 0s - loss: 0.0280 - accuracy: 0.0000e+00\n",
      "324/324 - 0s - loss: 0.0280 - accuracy: 0.0000e+00\n",
      "324/324 - 0s - loss: 0.0279 - accuracy: 0.0000e+00\n",
      "324/324 - 0s - loss: 0.0279 - accuracy: 0.0000e+00\n",
      "324/324 - 0s - loss: 0.0279 - accuracy: 0.0000e+00\n",
      "324/324 - 0s - loss: 0.0279 - accuracy: 0.0000e+00\n",
      "WARNING:tensorflow:Callbacks method `on_train_batch_begin` is slow compared to the batch time (batch time: 0.0000s vs `on_train_batch_begin` time: 0.0010s). Check your callbacks.\n",
      "324/324 - 0s - loss: 0.0278 - accuracy: 0.0000e+00\n",
      "324/324 - 0s - loss: 0.0278 - accuracy: 0.0000e+00\n",
      "324/324 - 0s - loss: 0.0278 - accuracy: 0.0000e+00\n",
      "324/324 - 0s - loss: 0.0278 - accuracy: 0.0000e+00\n",
      "324/324 - 0s - loss: 0.0277 - accuracy: 0.0000e+00\n",
      "324/324 - 0s - loss: 0.0277 - accuracy: 0.0000e+00\n",
      "324/324 - 0s - loss: 0.0277 - accuracy: 0.0000e+00\n",
      "324/324 - 0s - loss: 0.0276 - accuracy: 0.0000e+00\n",
      "324/324 - 0s - loss: 0.0276 - accuracy: 0.0000e+00\n",
      "324/324 - 0s - loss: 0.0276 - accuracy: 0.0000e+00\n",
      "324/324 - 0s - loss: 0.0275 - accuracy: 0.0000e+00\n",
      "324/324 - 0s - loss: 0.0275 - accuracy: 0.0000e+00\n",
      "324/324 - 0s - loss: 0.0275 - accuracy: 0.0000e+00\n",
      "324/324 - 0s - loss: 0.0274 - accuracy: 0.0000e+00\n",
      "324/324 - 0s - loss: 0.0274 - accuracy: 0.0000e+00\n",
      "324/324 - 0s - loss: 0.0274 - accuracy: 0.0000e+00\n",
      "324/324 - 0s - loss: 0.0273 - accuracy: 0.0000e+00\n",
      "324/324 - 0s - loss: 0.0273 - accuracy: 0.0000e+00\n",
      "324/324 - 0s - loss: 0.0273 - accuracy: 0.0000e+00\n",
      "324/324 - 0s - loss: 0.0272 - accuracy: 0.0000e+00\n",
      "324/324 - 0s - loss: 0.0272 - accuracy: 0.0000e+00\n",
      "324/324 - 0s - loss: 0.0272 - accuracy: 0.0000e+00\n",
      "324/324 - 0s - loss: 0.0271 - accuracy: 0.0000e+00\n",
      "324/324 - 0s - loss: 0.0271 - accuracy: 0.0000e+00\n",
      "324/324 - 0s - loss: 0.0271 - accuracy: 0.0000e+00\n",
      "324/324 - 0s - loss: 0.0270 - accuracy: 0.0000e+00\n",
      "324/324 - 0s - loss: 0.0270 - accuracy: 0.0000e+00\n",
      "324/324 - 0s - loss: 0.0269 - accuracy: 0.0000e+00\n",
      "324/324 - 0s - loss: 0.0269 - accuracy: 0.0000e+00\n",
      "324/324 - 0s - loss: 0.0269 - accuracy: 0.0000e+00\n",
      "324/324 - 0s - loss: 0.0268 - accuracy: 0.0000e+00\n",
      "324/324 - 0s - loss: 0.0268 - accuracy: 0.0000e+00\n",
      "324/324 - 0s - loss: 0.0268 - accuracy: 0.0000e+00\n",
      "324/324 - 0s - loss: 0.0267 - accuracy: 0.0000e+00\n",
      "324/324 - 0s - loss: 0.0267 - accuracy: 0.0000e+00\n",
      "324/324 - 0s - loss: 0.0267 - accuracy: 0.0000e+00\n",
      "324/324 - 0s - loss: 0.0266 - accuracy: 0.0000e+00\n",
      "324/324 - 0s - loss: 0.0266 - accuracy: 0.0000e+00\n",
      "324/324 - 0s - loss: 0.0266 - accuracy: 0.0000e+00\n",
      "324/324 - 0s - loss: 0.0265 - accuracy: 0.0000e+00\n",
      "324/324 - 0s - loss: 0.0265 - accuracy: 0.0000e+00\n",
      "324/324 - 0s - loss: 0.0265 - accuracy: 0.0000e+00\n",
      "324/324 - 0s - loss: 0.0264 - accuracy: 0.0000e+00\n",
      "324/324 - 0s - loss: 0.0264 - accuracy: 0.0000e+00\n",
      "WARNING:tensorflow:Callbacks method `on_train_batch_begin` is slow compared to the batch time (batch time: 0.0006s vs `on_train_batch_begin` time: 0.0010s). Check your callbacks.\n",
      "324/324 - 0s - loss: 0.0264 - accuracy: 0.0000e+00\n",
      "324/324 - 0s - loss: 0.0264 - accuracy: 0.0000e+00\n",
      "WARNING:tensorflow:Callbacks method `on_train_batch_end` is slow compared to the batch time (batch time: 0.0000s vs `on_train_batch_end` time: 0.0010s). Check your callbacks.\n",
      "324/324 - 0s - loss: 0.0263 - accuracy: 0.0000e+00\n",
      "324/324 - 0s - loss: 0.0263 - accuracy: 0.0000e+00\n",
      "324/324 - 0s - loss: 0.0263 - accuracy: 0.0000e+00\n",
      "324/324 - 0s - loss: 0.0262 - accuracy: 0.0000e+00\n",
      "324/324 - 0s - loss: 0.0262 - accuracy: 0.0000e+00\n",
      "324/324 - 0s - loss: 0.0262 - accuracy: 0.0000e+00\n",
      "324/324 - 0s - loss: 0.0262 - accuracy: 0.0000e+00\n",
      "324/324 - 0s - loss: 0.0261 - accuracy: 0.0000e+00\n",
      "324/324 - 0s - loss: 0.0261 - accuracy: 0.0000e+00\n",
      "WARNING:tensorflow:Callbacks method `on_train_batch_end` is slow compared to the batch time (batch time: 0.0000s vs `on_train_batch_end` time: 0.0010s). Check your callbacks.\n",
      "324/324 - 0s - loss: 0.0261 - accuracy: 0.0000e+00\n",
      "324/324 - 0s - loss: 0.0261 - accuracy: 0.0000e+00\n",
      "324/324 - 0s - loss: 0.0260 - accuracy: 0.0000e+00\n",
      "324/324 - 0s - loss: 0.0260 - accuracy: 0.0000e+00\n",
      "324/324 - 0s - loss: 0.0260 - accuracy: 0.0000e+00\n",
      "324/324 - 0s - loss: 0.0260 - accuracy: 0.0000e+00\n",
      "324/324 - 0s - loss: 0.0259 - accuracy: 0.0000e+00\n",
      "324/324 - 0s - loss: 0.0259 - accuracy: 0.0000e+00\n",
      "324/324 - 0s - loss: 0.0259 - accuracy: 0.0000e+00\n",
      "324/324 - 0s - loss: 0.0259 - accuracy: 0.0000e+00\n",
      "324/324 - 0s - loss: 0.0258 - accuracy: 0.0000e+00\n"
     ]
    },
    {
     "name": "stdout",
     "output_type": "stream",
     "text": [
      "324/324 - 0s - loss: 0.0258 - accuracy: 0.0000e+00\n",
      "324/324 - 0s - loss: 0.0258 - accuracy: 0.0000e+00\n",
      "324/324 - 0s - loss: 0.0258 - accuracy: 0.0000e+00\n",
      "324/324 - 0s - loss: 0.0257 - accuracy: 0.0000e+00\n",
      "324/324 - 0s - loss: 0.0257 - accuracy: 0.0000e+00\n",
      "324/324 - 0s - loss: 0.0257 - accuracy: 0.0000e+00\n",
      "324/324 - 0s - loss: 0.0257 - accuracy: 0.0000e+00\n",
      "324/324 - 0s - loss: 0.0256 - accuracy: 0.0000e+00\n",
      "324/324 - 0s - loss: 0.0256 - accuracy: 0.0000e+00\n",
      "324/324 - 0s - loss: 0.0256 - accuracy: 0.0000e+00\n",
      "324/324 - 0s - loss: 0.0255 - accuracy: 0.0000e+00\n",
      "324/324 - 0s - loss: 0.0255 - accuracy: 0.0000e+00\n",
      "324/324 - 0s - loss: 0.0255 - accuracy: 0.0000e+00\n",
      "324/324 - 0s - loss: 0.0255 - accuracy: 0.0000e+00\n",
      "324/324 - 0s - loss: 0.0254 - accuracy: 0.0000e+00\n",
      "324/324 - 0s - loss: 0.0254 - accuracy: 0.0000e+00\n",
      "324/324 - 0s - loss: 0.0254 - accuracy: 0.0000e+00\n",
      "324/324 - 0s - loss: 0.0253 - accuracy: 0.0000e+00\n",
      "324/324 - 0s - loss: 0.0253 - accuracy: 0.0000e+00\n",
      "324/324 - 0s - loss: 0.0253 - accuracy: 0.0000e+00\n",
      "324/324 - 0s - loss: 0.0253 - accuracy: 0.0000e+00\n",
      "324/324 - 0s - loss: 0.0252 - accuracy: 0.0000e+00\n",
      "324/324 - 0s - loss: 0.0252 - accuracy: 0.0000e+00\n",
      "324/324 - 0s - loss: 0.0252 - accuracy: 0.0000e+00\n",
      "324/324 - 0s - loss: 0.0251 - accuracy: 0.0000e+00\n",
      "324/324 - 0s - loss: 0.0251 - accuracy: 0.0000e+00\n",
      "324/324 - 0s - loss: 0.0251 - accuracy: 0.0000e+00\n",
      "324/324 - 0s - loss: 0.0250 - accuracy: 0.0000e+00\n",
      "324/324 - 0s - loss: 0.0250 - accuracy: 0.0000e+00\n",
      "324/324 - 0s - loss: 0.0250 - accuracy: 0.0000e+00\n",
      "324/324 - 0s - loss: 0.0250 - accuracy: 0.0000e+00\n",
      "324/324 - 0s - loss: 0.0249 - accuracy: 0.0000e+00\n",
      "324/324 - 0s - loss: 0.0249 - accuracy: 0.0000e+00\n",
      "324/324 - 0s - loss: 0.0249 - accuracy: 0.0000e+00\n",
      "324/324 - 0s - loss: 0.0248 - accuracy: 0.0000e+00\n",
      "324/324 - 0s - loss: 0.0248 - accuracy: 0.0000e+00\n",
      "324/324 - 0s - loss: 0.0248 - accuracy: 0.0000e+00\n",
      "324/324 - 0s - loss: 0.0248 - accuracy: 0.0000e+00\n",
      "324/324 - 0s - loss: 0.0248 - accuracy: 0.0000e+00\n",
      "324/324 - 0s - loss: 0.0247 - accuracy: 0.0000e+00\n",
      "324/324 - 0s - loss: 0.0247 - accuracy: 0.0000e+00\n",
      "324/324 - 0s - loss: 0.0247 - accuracy: 0.0000e+00\n",
      "324/324 - 0s - loss: 0.0247 - accuracy: 0.0000e+00\n",
      "324/324 - 0s - loss: 0.0247 - accuracy: 0.0000e+00\n",
      "324/324 - 0s - loss: 0.0246 - accuracy: 0.0000e+00\n",
      "324/324 - 0s - loss: 0.0246 - accuracy: 0.0000e+00\n",
      "324/324 - 0s - loss: 0.0246 - accuracy: 0.0000e+00\n",
      "324/324 - 0s - loss: 0.0246 - accuracy: 0.0000e+00\n",
      "324/324 - 0s - loss: 0.0246 - accuracy: 0.0000e+00\n",
      "324/324 - 0s - loss: 0.0245 - accuracy: 0.0000e+00\n",
      "324/324 - 0s - loss: 0.0245 - accuracy: 0.0000e+00\n",
      "324/324 - 0s - loss: 0.0245 - accuracy: 0.0000e+00\n",
      "324/324 - 0s - loss: 0.0245 - accuracy: 0.0000e+00\n"
     ]
    },
    {
     "data": {
      "text/plain": [
       "array([[-2.35165700e-01],\n",
       "       [-2.57472783e-01],\n",
       "       [-2.07856655e-01],\n",
       "       [-1.49993613e-01],\n",
       "       [-2.54116505e-02],\n",
       "       [-7.01696947e-02],\n",
       "       [-1.09391615e-01],\n",
       "       [-1.18207410e-01],\n",
       "       [-9.23876613e-02],\n",
       "       [-2.07536519e-02],\n",
       "       [ 2.17561126e-02],\n",
       "       [-6.35755658e-02],\n",
       "       [-1.47205412e-01],\n",
       "       [-1.62874162e-01],\n",
       "       [-1.29096717e-01],\n",
       "       [-8.18715841e-02],\n",
       "       [ 3.07851285e-02],\n",
       "       [ 8.72144848e-02],\n",
       "       [ 5.83516657e-02],\n",
       "       [-7.02411085e-02],\n",
       "       [-8.49887580e-02],\n",
       "       [-1.02019377e-01],\n",
       "       [-5.60598671e-02],\n",
       "       [ 1.97421014e-03],\n",
       "       [ 8.55568796e-02],\n",
       "       [ 1.11456111e-01],\n",
       "       [-7.85085335e-02],\n",
       "       [-1.12037182e-01],\n",
       "       [-1.96276888e-01],\n",
       "       [-1.05230801e-01],\n",
       "       [-1.19768783e-01],\n",
       "       [ 6.59234822e-03],\n",
       "       [ 2.10688308e-01],\n",
       "       [ 4.49448228e-02],\n",
       "       [-1.80381671e-01],\n",
       "       [-1.64872691e-01],\n",
       "       [-1.66345403e-01],\n",
       "       [-1.24154605e-01],\n",
       "       [-5.76979592e-02],\n",
       "       [ 3.19954008e-02],\n",
       "       [ 5.56189120e-02],\n",
       "       [-3.62166762e-03],\n",
       "       [-5.66025823e-02],\n",
       "       [-7.65185505e-02],\n",
       "       [-6.68462515e-02],\n",
       "       [-3.62745523e-02],\n",
       "       [-6.40287995e-03],\n",
       "       [-4.79056910e-02],\n",
       "       [-7.46190846e-02],\n",
       "       [-6.98253587e-02],\n",
       "       [-4.13107425e-02],\n",
       "       [ 3.59336436e-02],\n",
       "       [ 9.67767984e-02],\n",
       "       [-7.80929700e-02],\n",
       "       [-1.55616790e-01],\n",
       "       [-1.64842650e-01],\n",
       "       [-1.32443249e-01],\n",
       "       [-8.51199701e-02],\n",
       "       [ 1.83966011e-02],\n",
       "       [ 1.02267578e-01],\n",
       "       [ 9.15019363e-02],\n",
       "       [-1.44696578e-01],\n",
       "       [-1.13606051e-01],\n",
       "       [-1.39725745e-01],\n",
       "       [-8.47192556e-02],\n",
       "       [-1.99367553e-02],\n",
       "       [ 5.61388284e-02],\n",
       "       [ 5.29427528e-02],\n",
       "       [-1.17334798e-01],\n",
       "       [-1.24351427e-01],\n",
       "       [-1.27066761e-01],\n",
       "       [-8.56431723e-02],\n",
       "       [-3.11413407e-03],\n",
       "       [ 7.92244226e-02],\n",
       "       [ 2.90387571e-02],\n",
       "       [-8.05345476e-02],\n",
       "       [-9.50518996e-02],\n",
       "       [-9.81662422e-02],\n",
       "       [-3.75919044e-02],\n",
       "       [ 8.17835331e-03],\n",
       "       [ 2.74122953e-02],\n",
       "       [ 3.23434174e-03],\n",
       "       [-1.74135238e-01],\n",
       "       [-1.38643950e-01],\n",
       "       [-1.66853622e-01],\n",
       "       [-1.00249223e-01],\n",
       "       [-5.64094782e-02],\n",
       "       [ 7.48068243e-02],\n",
       "       [ 1.89833090e-01],\n",
       "       [-1.63101792e-01],\n",
       "       [-1.08400472e-01],\n",
       "       [-1.45875514e-01],\n",
       "       [-9.29236934e-02],\n",
       "       [-2.38177925e-02],\n",
       "       [ 7.91325718e-02],\n",
       "       [ 9.66438651e-03],\n",
       "       [-8.53903517e-02],\n",
       "       [-9.63445082e-02],\n",
       "       [-9.97693092e-02],\n",
       "       [-4.01092321e-02],\n",
       "       [ 4.78127599e-03],\n",
       "       [ 2.75072306e-02],\n",
       "       [-3.21044773e-02],\n",
       "       [-1.31706312e-01],\n",
       "       [-1.32890671e-01],\n",
       "       [-1.36248708e-01],\n",
       "       [-8.32962692e-02],\n",
       "       [-4.63727862e-02],\n",
       "       [ 5.97465932e-02],\n",
       "       [ 2.37236872e-01],\n",
       "       [-1.13627814e-01],\n",
       "       [-1.37943655e-01],\n",
       "       [-1.51129514e-01],\n",
       "       [-1.21201001e-01],\n",
       "       [-6.99730590e-02],\n",
       "       [ 2.25028098e-02],\n",
       "       [ 1.51742771e-01],\n",
       "       [-4.72386852e-02],\n",
       "       [-1.10711694e-01],\n",
       "       [-1.14966072e-01],\n",
       "       [-9.46895555e-02],\n",
       "       [-3.79915386e-02],\n",
       "       [ 6.38373494e-02],\n",
       "       [ 1.69800952e-01],\n",
       "       [-1.29383713e-01],\n",
       "       [-1.10480018e-01],\n",
       "       [-1.35217011e-01],\n",
       "       [-1.05075553e-01],\n",
       "       [-4.48385626e-02],\n",
       "       [ 2.90093422e-02],\n",
       "       [ 1.08855113e-01],\n",
       "       [-7.24381581e-02],\n",
       "       [-1.01080433e-01],\n",
       "       [-1.16551504e-01],\n",
       "       [-8.15242529e-02],\n",
       "       [-2.59404033e-02],\n",
       "       [ 7.10289180e-02],\n",
       "       [ 3.91539931e-02],\n",
       "       [-1.13364726e-01],\n",
       "       [-1.44704998e-01],\n",
       "       [-1.25197276e-01],\n",
       "       [-9.30743068e-02],\n",
       "       [-1.37599558e-02],\n",
       "       [ 1.16951093e-01],\n",
       "       [ 7.75761902e-03],\n",
       "       [-1.26442462e-01],\n",
       "       [-1.25766248e-01],\n",
       "       [-1.21492699e-01],\n",
       "       [-7.14414716e-02],\n",
       "       [ 2.02701241e-02],\n",
       "       [ 1.55918106e-01],\n",
       "       [ 3.19484025e-02],\n",
       "       [-1.35851771e-01],\n",
       "       [-1.06874965e-01],\n",
       "       [-1.22845143e-01],\n",
       "       [-5.17166182e-02],\n",
       "       [ 3.47133130e-02],\n",
       "       [ 9.90323275e-02],\n",
       "       [ 4.32253927e-02],\n",
       "       [-1.77487254e-01],\n",
       "       [-1.17839776e-01],\n",
       "       [-1.33566484e-01],\n",
       "       [-7.50576928e-02],\n",
       "       [ 3.99188101e-02],\n",
       "       [ 1.39737532e-01],\n",
       "       [ 1.64453387e-02],\n",
       "       [-1.23107031e-01],\n",
       "       [-1.03505373e-01],\n",
       "       [-1.19103156e-01],\n",
       "       [-4.43450660e-02],\n",
       "       [ 3.80361527e-02],\n",
       "       [ 7.97738582e-02],\n",
       "       [ 5.87634742e-03],\n",
       "       [-8.32730085e-02],\n",
       "       [-8.42387006e-02],\n",
       "       [-8.97057876e-02],\n",
       "       [-2.88315564e-02],\n",
       "       [ 5.54610491e-02],\n",
       "       [-4.40495014e-02],\n",
       "       [-1.24585986e-01],\n",
       "       [-1.43117964e-01],\n",
       "       [-1.26113847e-01],\n",
       "       [-7.57933930e-02],\n",
       "       [ 1.33634061e-02],\n",
       "       [ 8.48220140e-02],\n",
       "       [-1.82016790e-01],\n",
       "       [-2.12674469e-01],\n",
       "       [-1.89669639e-01],\n",
       "       [-1.46161839e-01],\n",
       "       [-8.56112838e-02],\n",
       "       [ 6.08525723e-02],\n",
       "       [ 1.46425113e-01],\n",
       "       [ 4.52812463e-02],\n",
       "       [-1.92988649e-01],\n",
       "       [-8.57531667e-01],\n",
       "       [-1.80737719e-01],\n",
       "       [-2.45452091e-01],\n",
       "       [-2.23179907e-01],\n",
       "       [-4.26366925e-02],\n",
       "       [ 1.35350868e-01],\n",
       "       [ 1.57966539e-01],\n",
       "       [-5.93190715e-02],\n",
       "       [-1.00812763e-01],\n",
       "       [-9.78817716e-02],\n",
       "       [-7.18916059e-02],\n",
       "       [ 4.05203253e-02],\n",
       "       [ 8.73291343e-02],\n",
       "       [ 1.74560547e-02],\n",
       "       [-1.29615992e-01],\n",
       "       [-1.00415014e-01],\n",
       "       [-1.17557555e-01],\n",
       "       [-5.61013147e-02],\n",
       "       [ 3.82296145e-02],\n",
       "       [ 1.60086885e-01],\n",
       "       [-9.37417671e-02],\n",
       "       [-1.61791623e-01],\n",
       "       [-1.93787202e-01],\n",
       "       [-1.64775461e-01],\n",
       "       [-1.14982367e-01],\n",
       "       [-5.75112700e-02],\n",
       "       [ 8.13888758e-02],\n",
       "       [ 2.35427961e-01],\n",
       "       [-4.30672705e-01],\n",
       "       [-1.30655870e-01],\n",
       "       [-2.03065634e-01],\n",
       "       [-1.37572646e-01],\n",
       "       [-4.29420173e-02],\n",
       "       [ 1.10340223e-01],\n",
       "       [ 4.99290228e-02],\n",
       "       [-8.04859623e-02],\n",
       "       [-1.33960187e-01],\n",
       "       [-1.07499890e-01],\n",
       "       [-8.39713886e-02],\n",
       "       [-1.36439800e-02],\n",
       "       [ 1.55779704e-01],\n",
       "       [ 1.27123609e-01],\n",
       "       [-1.67176992e-01],\n",
       "       [-1.08606607e-01],\n",
       "       [-1.40783623e-01],\n",
       "       [-7.67626762e-02],\n",
       "       [-7.10301101e-03],\n",
       "       [ 8.00476521e-02],\n",
       "       [ 7.70465285e-02],\n",
       "       [-8.71617377e-01],\n",
       "       [-1.50757819e-01],\n",
       "       [-2.85969436e-01],\n",
       "       [-2.26712778e-01],\n",
       "       [-9.80710834e-02],\n",
       "       [ 1.14167526e-01],\n",
       "       [ 4.16883677e-02],\n",
       "       [-1.15310609e-01],\n",
       "       [-1.06441431e-01],\n",
       "       [-1.21112794e-01],\n",
       "       [-6.38767257e-02],\n",
       "       [ 4.41233665e-02],\n",
       "       [ 1.84871748e-01],\n",
       "       [ 1.98999986e-01],\n",
       "       [-1.30341500e-01],\n",
       "       [-1.01758450e-01],\n",
       "       [-1.44887283e-01],\n",
       "       [-9.15775746e-02],\n",
       "       [-5.26732802e-02],\n",
       "       [ 4.89066094e-02],\n",
       "       [ 2.01439425e-01],\n",
       "       [ 2.51181722e-02],\n",
       "       [-4.20547277e-02],\n",
       "       [-8.24417621e-02],\n",
       "       [-5.94254360e-02],\n",
       "       [-2.22598463e-02],\n",
       "       [ 1.28948390e-02],\n",
       "       [-3.38976681e-02],\n",
       "       [-1.39741227e-01],\n",
       "       [-1.18609436e-01],\n",
       "       [-1.10834524e-01],\n",
       "       [-6.31784648e-02],\n",
       "       [ 5.79485297e-02],\n",
       "       [ 1.18109301e-01],\n",
       "       [-2.86135435e-01],\n",
       "       [-2.37602890e-01],\n",
       "       [-1.83115944e-01],\n",
       "       [-1.70720831e-01],\n",
       "       [-9.63925421e-02],\n",
       "       [-9.11752880e-03],\n",
       "       [ 2.13203952e-01],\n",
       "       [ 1.94103405e-01],\n",
       "       [-8.19690078e-02],\n",
       "       [-9.26285014e-02],\n",
       "       [-1.08488142e-01],\n",
       "       [-6.43498749e-02],\n",
       "       [ 4.13136184e-03],\n",
       "       [ 5.16908765e-02],\n",
       "       [ 4.60166037e-02],\n",
       "       [-7.65393525e-02],\n",
       "       [-1.16859108e-01],\n",
       "       [-1.16329543e-01],\n",
       "       [-1.22863695e-01],\n",
       "       [-8.07468295e-02],\n",
       "       [-5.89413494e-02],\n",
       "       [ 1.28931701e-02],\n",
       "       [ 1.67603195e-02],\n",
       "       [-1.01332366e-03],\n",
       "       [-9.65380669e-03],\n",
       "       [ 5.29926270e-02],\n",
       "       [ 1.03505597e-01],\n",
       "       [ 1.05609789e-01],\n",
       "       [-2.25506276e-02],\n",
       "       [-1.57397524e-01],\n",
       "       [-1.66123495e-01],\n",
       "       [-1.51512027e-01],\n",
       "       [-1.07079655e-01],\n",
       "       [-2.51717120e-02],\n",
       "       [ 8.10214132e-02],\n",
       "       [ 1.03728577e-01],\n",
       "       [-1.03685558e-01],\n",
       "       [-1.10769749e-01],\n",
       "       [-1.12786055e-01],\n",
       "       [-8.20792839e-02],\n",
       "       [ 5.76123595e-04],\n",
       "       [ 9.29301530e-02],\n",
       "       [-3.03873867e-02],\n",
       "       [-1.37324199e-01],\n",
       "       [-1.16374105e-01],\n",
       "       [-1.21281512e-01],\n",
       "       [-4.52407748e-02]], dtype=float32)"
      ]
     },
     "execution_count": 36,
     "metadata": {},
     "output_type": "execute_result"
    }
   ],
   "source": [
    "#Fit the model\n",
    "lstm_model = fit_lstm(train_scaled, 1, 200, 8)\n",
    " \n",
    "#Forecast the entire training dataset to build up state for forecasting\n",
    "train_reshaped = train_scaled[:, 0].reshape(len(train_scaled), 1, 1)\n",
    "lstm_model.predict(train_reshaped, batch_size=1)"
   ]
  },
  {
   "cell_type": "markdown",
   "metadata": {
    "colab_type": "text",
    "id": "6LZJYH19usOu"
   },
   "source": [
    "## ***Evaluate Model***"
   ]
  },
  {
   "cell_type": "code",
   "execution_count": 37,
   "metadata": {
    "colab": {
     "base_uri": "https://localhost:8080/",
     "height": 34
    },
    "colab_type": "code",
    "id": "2_4-epELeYQa",
    "outputId": "5b506f35-6fbe-4dec-eb37-e96b1fc58977"
   },
   "outputs": [
    {
     "name": "stdout",
     "output_type": "stream",
     "text": [
      "Days=225, Predicted=1455.377254, Expected=1478.282137\n"
     ]
    }
   ],
   "source": [
    "# walk-forward validation on the test data\n",
    "predictions = list()\n",
    "for i in range(len(test_scaled)):\n",
    "    # make one-step forecast\n",
    "    X, y = test_scaled[i, 0:-1], test_scaled[i, -1]\n",
    "    yhat = forecast_lstm(lstm_model, 1, X)\n",
    "    # invert scaling\n",
    "    yhat = invert_scale(scaler, X, yhat)\n",
    "    # invert differencing\n",
    "    yhat = inverse_difference(raw_values, yhat, len(test_scaled)+1-i)\n",
    "    # store forecast\n",
    "    predictions.append(yhat)\n",
    "    expected = raw_values[len(train) + i + 1]\n",
    "print('Days=%d, Predicted=%f, Expected=%f' % (i+1, yhat, expected))"
   ]
  },
  {
   "cell_type": "code",
   "execution_count": 38,
   "metadata": {
    "colab": {
     "base_uri": "https://localhost:8080/",
     "height": 336
    },
    "colab_type": "code",
    "id": "89Z1dpTc_DfH",
    "outputId": "cbab2961-3aba-4571-8cc6-30b258227ae7"
   },
   "outputs": [
    {
     "data": {
      "image/png": "[encoded data removed]",
      "text/plain": [
       "<Figure size 1080x360 with 1 Axes>"
      ]
     },
     "metadata": {
      "needs_background": "light"
     },
     "output_type": "display_data"
    }
   ],
   "source": [
    "# line plot of observed vs predicted\n",
    "plt.figure(figsize = (15,5))\n",
    "\n",
    "plt.plot(raw_values[-225:],label='Expected')\n",
    "plt.plot(predictions,label='Predicted')\n",
    "\n",
    "plt.legend()\n",
    "plt.title('Plot of LSTM Expected vs Predicted Values')\n",
    "plt.show()"
   ]
  },
  {
   "cell_type": "markdown",
   "metadata": {
    "colab_type": "text",
    "id": "VdZQtSqOwfZ2"
   },
   "source": [
    "A line plot of the expected data (blue) vs the predicted values (orange) is also created, providing context for the model skill.  Visually it the predicted values shows a good fit to the model.\n",
    "\n"
   ]
  },
  {
   "cell_type": "code",
   "execution_count": 39,
   "metadata": {
    "colab": {
     "base_uri": "https://localhost:8080/",
     "height": 71
    },
    "colab_type": "code",
    "id": "A9_zYiPZEFQN",
    "outputId": "dea9eeb4-5122-4ff2-d19c-364e48631cbe"
   },
   "outputs": [
    {
     "name": "stdout",
     "output_type": "stream",
     "text": [
      "Test RMSE: 101.795\n",
      "Predictions: [1295.039219495985, 1384.2693628781994, 1410.268265974384, 1393.5046096070525, 1323.5901762116944, 1292.242968705924, 1295.6938856839215, 1274.2596153314353, 1336.074488877779, 1385.9646077316622, 1353.7462591210751, 1295.9223828960478, 1280.359516309064, 1290.0372305912613, 1275.7217930955544, 1396.8663512358983, 1408.7976732842817, 1400.5740406563646, 1334.390964349809, 1335.2564362580754, 1345.0431076697485, 1386.828203327178, 1433.1151261695356, 1464.5839691634742, 1482.0846173152727, 1442.5466079207188, 1361.1372162670878, 1356.1882076925672, 1351.3943168138403, 1381.7913452449939, 1464.2020657525202, 1428.0127382290489, 1342.3990789769564, 1349.992910564477, 1294.295368226288, 1372.928282800413, 1372.8701545545557, 1450.9343479991353, 1435.4600105201782, 1356.9631069069978, 1289.4348063307373, 1355.288366416001, 1333.6215251223823, 1390.4872021468366, 1395.9974460440471, 1362.264325798207, 1357.0603272030824, 1453.7889153273886, 1356.6457368653003, 1234.3579944264116, 1283.0105195733374, 1552.788306778382, 1446.599909461076, 1331.8331403864056, 1280.2415452256346, 1275.099757049882, 1292.959037519443, 1334.3161742548625, 1366.3672855995692, 1336.0449984689528, 1314.1073806590502, 1476.6560524632262, 1642.3867770119139, 1838.6265341094518, 1868.8908143336891, 2052.366652960876, 2163.192295475719, 2186.6413914136106, 2163.991068460117, 2163.843197822317, 2127.58784238207, 2065.9886926272625, 2226.6918994752914, 2154.6655103652665, 2115.9057642797084, 1952.6770477993193, 1820.093139882955, 1871.2299306131854, 2068.607396192716, 2008.2995129631563, 2052.7757359003785, 2065.0422914378855, 2135.195429910642, 2105.6512785303767, 2157.1714868901345, 2119.500590943645, 2258.0358928605724, 2284.416396335435, 2095.357544991143, 1483.6341955249675, 1335.3378465972498, 1406.95454902182, 1595.0647743639365, 1626.8023752751344, 1508.909927016794, 1458.7589782395398, 1394.7489021735896, 1370.3322282661263, 1349.1653258738527, 1418.2852212932305, 1506.3557500762429, 1541.6612886711648, 1609.4098270364964, 1613.8364553113265, 1617.5497244960175, 1642.769664666233, 1709.251583368997, 1804.454494479242, 1665.8284015388429, 1571.6947764998836, 1466.6042262554254, 1398.8238596405918, 1414.6933488000593, 1533.5823031665973, 1438.345830336301, 1429.1190087225184, 1449.3247177019045, 1434.7424390191875, 1448.3479544246018, 1315.286896065197, 1387.1594727060187, 1552.92368487278, 1487.2898668977539, 1384.7462372480445, 1394.3769806884545, 1407.964129436075, 1380.2768423687037, 1361.00231578194, 1499.9181086153249, 1460.7071240116722, 1444.7515050887407, 1413.0557325114466, 1383.3543516824345, 1327.021778322294, 1435.5821929055242, 1522.1190514409216, 1503.9101814714202, 1469.2864769293808, 1539.6736056169116, 1564.703605902698, 1316.7037278057787, 1392.4290185364282, 1650.2642912638523, 1539.3583411816292, 1405.7584397191172, 1390.6864203610169, 1429.7209650891964, 1394.6740377909484, 1431.523215424008, 1529.6332146247587, 1492.7692418428621, 1427.6323291966125, 1418.5743959403258, 1455.5063761300153, 1405.7936489246877, 1404.541745950358, 1507.4514590083236, 1475.1212772442834, 1418.0772899926933, 1354.7137969026357, 1372.7350728957965, 1327.8386337916972, 1369.2507711820167, 1474.1591102487585, 1423.9316847846458, 1385.3224017012542, 1394.3479506729984, 1448.1693186760704, 1399.515280467907, 1454.9182586376248, 1573.2858489813912, 1534.9669862565677, 1550.8139093917596, 1763.2797298832088, 1687.2405693901824, 1535.3009089313805, 1445.6900219993313, 1700.0662729707583, 1769.1736954138883, 1606.60044923395, 1539.6696189403792, 1488.3155337758963, 1436.8860469453116, 1465.0533010106794, 1524.4134307312256, 1498.3059982039001, 1488.6199761495895, 1415.7456015272087, 1352.627607581585, 1341.1239363372647, 1566.4394955918613, 1523.8781556246927, 1439.4439213602352, 1485.3876482125638, 1380.3986128444092, 1384.5017620559101, 1396.0470594389244, 1524.9154144857523, 1495.3458647893735, 1480.4742870970179, 1460.217000012632, 1420.9587681666453, 1417.8266599742133, 1411.4292722067032, 1440.752237754505, 1492.5166357965068, 1447.8494529956492, 1380.7938883956906, 1431.1396308857045, 1335.2995020726764, 1272.5274390760387, 1338.5756450567233, 1514.578334256805, 1474.0612044548554, 1456.7323570718336, 1378.4207537432562, 1365.0848997648013, 1404.1779688392883, 1477.341961005706, 1535.8681762526617, 1564.6238631367503, 1611.1809700726017, 1578.8434947234596, 1644.1664729150693, 1455.3772535792452]\n"
     ]
    }
   ],
   "source": [
    "# report performance\n",
    "rmse = sqrt(mean_squared_error(raw_values[-225:], predictions))\n",
    "print('Test RMSE: %.3f' % rmse)\n",
    "print('Predictions:', predictions)"
   ]
  },
  {
   "cell_type": "code",
   "execution_count": 40,
   "metadata": {
    "colab": {
     "base_uri": "https://localhost:8080/",
     "height": 34
    },
    "colab_type": "code",
    "id": "qNNRhsiJB_aD",
    "outputId": "1f5f89ab-23b9-40ec-b2c8-1be1d91369cc"
   },
   "outputs": [
    {
     "name": "stdout",
     "output_type": "stream",
     "text": [
      "The R2 score is:\t82.543%\n"
     ]
    }
   ],
   "source": [
    "#Goodness of Fit\n",
    "from sklearn.metrics import r2_score\n",
    "\n",
    "#train_pred_lstm = lstm_model.predict(raw_values[-225:])\n",
    "#pred_test_lstm = lstm_model.predict(yhat)\n",
    "print(\"The R2 score is:\\t{:0.3f}%\".format(r2_score(raw_values[-225:], predictions)*100))"
   ]
  },
  {
   "cell_type": "markdown",
   "metadata": {
    "colab_type": "text",
    "id": "sfYeNeWsWdz2"
   },
   "source": [
    "## ***Conclusion***"
   ]
  },
  {
   "cell_type": "markdown",
   "metadata": {
    "colab_type": "text",
    "id": "zGq9IS42Wnbm"
   },
   "source": [
    "In conclusion, the plot of the expected values versus the predicted values matched closely, which means our model is a good predictor.  The R-square factor for this model is 82.54%.  This value indicates that the model fits the observed data very well and provides good predictions for new observations.\n",
    "\n",
    "Root Mean Square Error (RMSE) is the standard deviation of the residuals or prediction errors. It is calculated as the average of the squared forecast error values. Squaring the forecast error values forces them to be positive; it also has the effect of putting more weight on large errors.\n",
    "\n",
    "Very large or outlier forecast errors are squared, which in turn has the effect of dragging the mean of the squared forecast errors out resulting in a larger mean squared error score. In effect, the score gives worse performance to those models that make large wrong forecasts.\n",
    "\n",
    "THe RMSE of this model is 101.795.  This value seems to be understandable since the observations did not show seasonalilty or trend.  There were two high peaks in the plot and the model did its best to predict accordingly however, it seemed to have matched closely but not close enough.  I believe this accounts for the RMSE value.\n",
    "\n",
    "The model uses 8 neurons, 1 dense layer and 200 epochs.  It was tuned using the Mean Squared Error function and the optimizer, Adam.\n",
    "\n",
    "The model was trained on half of the data obsercations(225) and the remaining half was used as the test.  The prediction was made on 225 days.\n",
    "\n",
    "Overall, I believe the model did well.  An R-square of approximately 82.54% is considered a good model.  In addition, the prediction values show that they match the values of observations closely.\n",
    "\n",
    "\n",
    "\n",
    "\n"
   ]
  }
 ],
 "metadata": {
  "colab": {
   "collapsed_sections": [],
   "machine_shape": "hm",
   "name": "LSTM_RNN_SNH.ipynb",
   "provenance": []
  },
  "kernelspec": {
   "display_name": "Python 3",
   "language": "python",
   "name": "python3"
  },
  "language_info": {
   "codemirror_mode": {
    "name": "ipython",
    "version": 3
   },
   "file_extension": ".py",
   "mimetype": "text/x-python",
   "name": "python",
   "nbconvert_exporter": "python",
   "pygments_lexer": "ipython3",
   "version": "3.7.9"
  }
 },
 "nbformat": 4,
 "nbformat_minor": 1
}
